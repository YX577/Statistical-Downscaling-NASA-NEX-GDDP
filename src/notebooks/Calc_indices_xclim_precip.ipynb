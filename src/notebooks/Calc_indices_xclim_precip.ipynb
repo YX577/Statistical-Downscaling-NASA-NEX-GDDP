{
 "cells": [
  {
   "cell_type": "code",
   "execution_count": 1,
   "metadata": {},
   "outputs": [],
   "source": [
    "import xclim as xc\n",
    "import xarray as xr\n",
    "import _pickle as cpickle\n",
    "import numpy as np\n",
    "import re"
   ]
  },
  {
   "cell_type": "code",
   "execution_count": 2,
   "metadata": {},
   "outputs": [],
   "source": [
    "import sys\n",
    "sys.path.append('../scripts/')\n",
    "sys.path.append(\"/home/abhi/Documents/mygit/postBC_diagnostic/src/scripts\")\n",
    "from recipes import *"
   ]
  },
  {
   "cell_type": "code",
   "execution_count": 3,
   "metadata": {},
   "outputs": [],
   "source": [
    "def get_seasgrpr(ds):\n",
    "    seasgrpr = xr.DataArray(pd.Series(ds['time.month'].values)\n",
    "                            .apply(getseas), dims={'time':ds['time']},\n",
    "                            name='seas')\n",
    "    \n",
    "    return(seasgrpr)"
   ]
  },
  {
   "cell_type": "code",
   "execution_count": 4,
   "metadata": {},
   "outputs": [],
   "source": [
    "seasIndex = pd.Index(['Annual', 'DJF', 'MAM', 'JJAS', 'ON'], name='seas')"
   ]
  },
  {
   "cell_type": "markdown",
   "metadata": {},
   "source": [
    "### Load the dataset"
   ]
  },
  {
   "cell_type": "code",
   "execution_count": 6,
   "metadata": {},
   "outputs": [],
   "source": [
    "with open('../../pickles/Amravati/Amravati_ALL21_rcp45_ds.pkl', 'rb') as f:\n",
    "    ds = cpickle.load(f)"
   ]
  },
  {
   "cell_type": "code",
   "execution_count": 7,
   "metadata": {},
   "outputs": [],
   "source": [
    "with open('../../pickles/Amravati/Amravati_ALL21_historical_ds.pkl', 'rb') as f:\n",
    "    ds_base = cpickle.load(f)"
   ]
  },
  {
   "cell_type": "markdown",
   "metadata": {},
   "source": [
    "### Extract out the precipitation dataarray and multiply with 86400"
   ]
  },
  {
   "cell_type": "code",
   "execution_count": 9,
   "metadata": {},
   "outputs": [],
   "source": [
    "pr = ds.sel(variable='pr')['value']*86400\n",
    "pr.attrs['units'] = 'mm/day'"
   ]
  },
  {
   "cell_type": "code",
   "execution_count": 28,
   "metadata": {},
   "outputs": [],
   "source": [
    "pr_base = ds_base.sel(variable='pr')['value']*86400\n",
    "pr_base.attrs['units'] = 'mm/day'"
   ]
  },
  {
   "cell_type": "code",
   "execution_count": 7,
   "metadata": {},
   "outputs": [
    {
     "data": {
      "text/plain": [
       "<xarray.DataArray 'value' (model: 21, time: 34310)>\n",
       "array([[0.      , 0.      , 0.      , ..., 0.      , 0.      , 0.      ],\n",
       "       [0.      , 0.      , 0.      , ..., 0.      , 0.      , 0.      ],\n",
       "       [0.      , 0.      , 0.      , ..., 0.      , 0.      , 0.      ],\n",
       "       ...,\n",
       "       [0.      , 0.      , 0.      , ..., 0.      , 0.      , 0.      ],\n",
       "       [0.      , 0.      , 0.      , ..., 0.      , 0.      , 0.      ],\n",
       "       [0.      , 0.      , 0.      , ..., 0.      , 0.      , 0.010201]])\n",
       "Coordinates:\n",
       "  * time      (time) datetime64[ns] 2006-01-01T12:00:00 ... 2099-12-31T12:00:00\n",
       "    variable  <U2 'pr'\n",
       "  * model     (model) object 'ACCESS1-0' 'BCC-CSM1-1' ... 'NorESM1-M'\n",
       "Attributes:\n",
       "    units:    mm/day"
      ]
     },
     "execution_count": 7,
     "metadata": {},
     "output_type": "execute_result"
    }
   ],
   "source": [
    "pr"
   ]
  },
  {
   "cell_type": "markdown",
   "metadata": {},
   "source": [
    "### Indices calculation"
   ]
  },
  {
   "cell_type": "markdown",
   "metadata": {},
   "source": [
    "#### intensity_above_thresh"
   ]
  },
  {
   "cell_type": "code",
   "execution_count": 8,
   "metadata": {},
   "outputs": [],
   "source": [
    "res = xc.indices.daily_pr_intensity(pr, thresh='1 mm/day', freq='MS')"
   ]
  },
  {
   "cell_type": "code",
   "execution_count": 60,
   "metadata": {},
   "outputs": [],
   "source": [
    "def yearseasmean(ds):\n",
    "    res = xr.concat([yearmean(ds)] + [yearmean(selseas(ds, seas)) for seas in seasIndex[1:]],\n",
    "                   dim=seasIndex)\n",
    "    \n",
    "    return(res)"
   ]
  },
  {
   "cell_type": "code",
   "execution_count": 61,
   "metadata": {},
   "outputs": [],
   "source": [
    "def intensity_above_thresh(ds, thresh='1 mm/day', freq='MS'):\n",
    "    res = yearseasmean(xc.indices.daily_pr_intensity(pr, thresh='1 mm/day', freq='MS'))\n",
    "    return(res)\n",
    "    "
   ]
  },
  {
   "cell_type": "code",
   "execution_count": 62,
   "metadata": {},
   "outputs": [
    {
     "data": {
      "text/plain": [
       "<xarray.DataArray 'value' (seas: 5, model: 21, year: 94)>\n",
       "array([[[13.511349, 10.553436, ...,  6.013226, 10.304479],\n",
       "        [ 7.913057,  8.035091, ...,  6.855527,  6.578495],\n",
       "        ...,\n",
       "        [20.619035, 11.544139, ..., 19.389004, 24.850097],\n",
       "        [ 7.539294,  6.892458, ..., 13.730077, 13.337861]],\n",
       "\n",
       "       [[      nan,  2.1247  , ...,       nan,       nan],\n",
       "        [11.651332,  1.234272, ...,  1.671188,  5.55951 ],\n",
       "        ...,\n",
       "        [25.492444,  3.511683, ...,       nan,  2.0777  ],\n",
       "        [ 1.921563,       nan, ...,       nan, 16.974394]],\n",
       "\n",
       "       ...,\n",
       "\n",
       "       [[ 6.851316, 12.465498, ...,  5.933042, 13.951252],\n",
       "        [10.287418,  9.743216, ...,  9.483839,  8.00358 ],\n",
       "        ...,\n",
       "        [21.429355, 12.84127 , ..., 10.33046 , 23.923862],\n",
       "        [10.208393,  9.98719 , ..., 12.224537, 12.407865]],\n",
       "\n",
       "       [[ 8.136365, 19.030672, ..., 10.840801,       nan],\n",
       "        [ 4.426489,  8.019253, ...,  1.526617,  4.74731 ],\n",
       "        ...,\n",
       "        [ 3.230799,  5.845129, ...,  9.362282,  6.465439],\n",
       "        [ 7.443704,  3.029345, ..., 16.741157, 11.022742]]])\n",
       "Coordinates:\n",
       "    variable  <U2 'pr'\n",
       "  * model     (model) object 'ACCESS1-0' 'BCC-CSM1-1' ... 'NorESM1-M'\n",
       "  * year      (year) int64 2006 2007 2008 2009 2010 ... 2095 2096 2097 2098 2099\n",
       "  * seas      (seas) object 'Annual' 'DJF' 'MAM' 'JJAS' 'ON'"
      ]
     },
     "execution_count": 62,
     "metadata": {},
     "output_type": "execute_result"
    }
   ],
   "source": [
    "intensity_above_thresh(pr)"
   ]
  },
  {
   "cell_type": "markdown",
   "metadata": {},
   "source": [
    "#### days_above_thresh"
   ]
  },
  {
   "cell_type": "code",
   "execution_count": 12,
   "metadata": {},
   "outputs": [],
   "source": [
    "res = xc.indices.wetdays(pr, thresh='1 mm/day', freq='MS')"
   ]
  },
  {
   "cell_type": "code",
   "execution_count": 13,
   "metadata": {},
   "outputs": [],
   "source": [
    "def yearsum(xr_ds):\n",
    "    return xr_ds.groupby('time.year').sum('time')"
   ]
  },
  {
   "cell_type": "code",
   "execution_count": 14,
   "metadata": {},
   "outputs": [],
   "source": [
    "def yearseassum(ds):\n",
    "    res = xr.concat([yearsum(ds)] + [yearsum(selseas(ds, seas)) for seas in seasIndex[1:]],\n",
    "                   dim=seasIndex)\n",
    "    \n",
    "    return(res)"
   ]
  },
  {
   "cell_type": "code",
   "execution_count": 63,
   "metadata": {},
   "outputs": [],
   "source": [
    "def days_above_thresh(ds, thresh='1 mm/day', freq='MS'):\n",
    "    res = yearseassum(xc.indices.wetdays(pr, thresh='1 mm/day', freq='MS'))\n",
    "    return(res)"
   ]
  },
  {
   "cell_type": "code",
   "execution_count": 64,
   "metadata": {},
   "outputs": [
    {
     "data": {
      "text/plain": [
       "<xarray.DataArray 'value' (seas: 5, model: 21, year: 94)>\n",
       "array([[[57, 37, ..., 56, 76],\n",
       "        [89, 79, ..., 86, 99],\n",
       "        ...,\n",
       "        [94, 38, ..., 27, 54],\n",
       "        [70, 83, ..., 65, 65]],\n",
       "\n",
       "       [[ 0,  2, ...,  0,  0],\n",
       "        [ 1,  1, ...,  1,  4],\n",
       "        ...,\n",
       "        [ 2,  1, ...,  0,  2],\n",
       "        [ 1,  0, ...,  0,  1]],\n",
       "\n",
       "       ...,\n",
       "\n",
       "       [[53, 26, ..., 51, 70],\n",
       "        [82, 71, ..., 76, 86],\n",
       "        ...,\n",
       "        [89, 34, ..., 23, 50],\n",
       "        [58, 78, ..., 56, 59]],\n",
       "\n",
       "       [[ 1,  7, ...,  1,  0],\n",
       "        [ 2,  7, ...,  9,  9],\n",
       "        ...,\n",
       "        [ 2,  1, ...,  3,  1],\n",
       "        [ 9,  3, ...,  9,  3]]])\n",
       "Coordinates:\n",
       "    variable  <U2 'pr'\n",
       "  * model     (model) object 'ACCESS1-0' 'BCC-CSM1-1' ... 'NorESM1-M'\n",
       "  * year      (year) int64 2006 2007 2008 2009 2010 ... 2095 2096 2097 2098 2099\n",
       "  * seas      (seas) object 'Annual' 'DJF' 'MAM' 'JJAS' 'ON'"
      ]
     },
     "execution_count": 64,
     "metadata": {},
     "output_type": "execute_result"
    }
   ],
   "source": [
    "days_above_thresh(pr)"
   ]
  },
  {
   "cell_type": "markdown",
   "metadata": {},
   "source": [
    "#### intensity_above_pctl and days_above_pctl\n",
    "\n",
    "Ways of calculating pctl:\n",
    "    1) Whole time series\n",
    "    2) Month wise\n",
    "    3) Season wise\n",
    "    4) Day of year wise"
   ]
  },
  {
   "cell_type": "code",
   "execution_count": 16,
   "metadata": {},
   "outputs": [],
   "source": [
    "def groupby(ds, method='whole'):\n",
    "    if method == 'whole':\n",
    "        ds = ds\n",
    "    elif method == 'month':\n",
    "        ds = ds.groupby('time.month')\n",
    "    elif method == 'doy':\n",
    "        ds = ds.groupby('time.dayofyear')\n",
    "    elif method == 'seas':\n",
    "        ds = groupbyseas(ds)\n",
    "        \n",
    "    return(ds)"
   ]
  },
  {
   "cell_type": "code",
   "execution_count": 17,
   "metadata": {},
   "outputs": [],
   "source": [
    "def calc_pctl(ds, q, method='whole'):\n",
    "    ds = groupby(ds, method=method)\n",
    "    res = ds.reduce(np.percentile, q=q, dim='time')\n",
    "        \n",
    "    return(res)"
   ]
  },
  {
   "cell_type": "code",
   "execution_count": 18,
   "metadata": {},
   "outputs": [],
   "source": [
    "def intensity_and_days_above_pctl(ds_fut, ds_base, pctl):\n",
    "    qseas = calc_pctl(ds_base, pctl, method='seas')\n",
    "    qwhole = calc_pctl(ds_base, pctl, method='whole')\n",
    "    \n",
    "    q = xr.concat([qwhole] + [qseas.sel(seas=seas).drop('seas') for seas in seasIndex[1:]],\n",
    "          dim=seasIndex)\n",
    "    \n",
    "    results = {'intensity': [],\n",
    "               'days': []}\n",
    "    \n",
    "    for seas in seasIndex:\n",
    "        anom  = selseas(ds_fut, seas).groupby('model') - q.sel(seas=seas)\n",
    "        anom.attrs['units'] = 'mm/day'\n",
    "        \n",
    "        results['days'].append(xc.indices.wetdays(anom, '0 mm/day', freq='YS'))\n",
    "        results['intensity'].append(xc.indices.daily_pr_intensity(anom, '0 mm/day', freq='YS'))\n",
    "        \n",
    "    \n",
    "    for k, dsets in results.items():\n",
    "        results[k] = xr.concat(dsets, dim=seasIndex)\n",
    "    \n",
    "    \n",
    "    return(results)\n",
    "    "
   ]
  },
  {
   "cell_type": "code",
   "execution_count": 55,
   "metadata": {},
   "outputs": [],
   "source": [
    "res = intensity_and_days_above_pctl(pr, selyear(pr_base, range(1976, 2006)), 90)['intensity'] -\\\n",
    "intensity_and_days_above_pctl(selyear(pr_base, range(1976, 2006)), selyear(pr_base, range(1976, 2006)), 90)['intensity'].mean(dim='time')"
   ]
  },
  {
   "cell_type": "code",
   "execution_count": 56,
   "metadata": {},
   "outputs": [
    {
     "data": {
      "text/plain": [
       "<xarray.DataArray 'value' (seas: 5)>\n",
       "array([ 1.362235, -0.002647,  0.014557,  1.731596,  0.794534])\n",
       "Coordinates:\n",
       "    variable  <U2 'pr'\n",
       "  * seas      (seas) object 'Annual' 'DJF' 'MAM' 'JJAS' 'ON'"
      ]
     },
     "execution_count": 56,
     "metadata": {},
     "output_type": "execute_result"
    }
   ],
   "source": [
    "selyear(res, range(2021, 2051)).mean(dim=['model', 'time'])\n"
   ]
  },
  {
   "cell_type": "code",
   "execution_count": 114,
   "metadata": {},
   "outputs": [
    {
     "data": {
      "text/plain": [
       "<xarray.DataArray 'value' (model: 21)>\n",
       "array([342, 342, 342, 342, 342, 342, 330, 342, 342, 342, 342, 342, 342, 342,\n",
       "       342, 342, 311, 342, 342, 289, 342])\n",
       "Coordinates:\n",
       "    variable  <U2 'pr'\n",
       "    seas      <U2 'ON'\n",
       "  * model     (model) object 'ACCESS1-0' 'BCC-CSM1-1' ... 'NorESM1-M'"
      ]
     },
     "execution_count": 114,
     "metadata": {},
     "output_type": "execute_result"
    }
   ],
   "source": [
    "(res>0).sum(dim='time')"
   ]
  },
  {
   "cell_type": "markdown",
   "metadata": {},
   "source": [
    "####  max_n_day_pr_amt "
   ]
  },
  {
   "cell_type": "code",
   "execution_count": 118,
   "metadata": {},
   "outputs": [],
   "source": [
    "def max_n_day_pr_amt(ds, ndays, **kwargs):\n",
    "    results = {}\n",
    "    \n",
    "    for seas in seasIndex:\n",
    "        results[seas] = xc.indices.max_n_day_precipitation_amount(selseas(ds, seas),\n",
    "                                                                          window=ndays, **kwargs)\n",
    "        \n",
    "    res = xr.concat(results.values(), dim=seasIndex)\n",
    "    \n",
    "    return(res)"
   ]
  },
  {
   "cell_type": "code",
   "execution_count": 123,
   "metadata": {},
   "outputs": [
    {
     "data": {
      "text/plain": [
       "<xarray.DataArray (model: 21, time: 56)>\n",
       "array([[109.916621, 171.354839, 218.681859, ..., 152.910217, 148.812673,\n",
       "        241.25679 ],\n",
       "       [138.997967, 197.483399,  87.328119, ..., 230.881098, 102.760961,\n",
       "        141.381561],\n",
       "       [ 75.485457,  94.347773, 128.351308, ..., 186.93602 ,  78.072789,\n",
       "         85.822667],\n",
       "       ...,\n",
       "       [153.227272, 137.366605, 174.670017, ..., 149.235789, 103.98921 ,\n",
       "        272.738347],\n",
       "       [189.57892 ,  77.89276 , 137.961795, ..., 560.145212,  77.979259,\n",
       "        199.927501],\n",
       "       [184.136193, 233.912748, 223.385225, ...,  71.106089, 133.451544,\n",
       "         95.20555 ]])\n",
       "Coordinates:\n",
       "  * time      (time) datetime64[ns] 1950-01-01 1951-01-01 ... 2005-01-01\n",
       "    variable  <U2 'pr'\n",
       "  * model     (model) object 'ACCESS1-0' 'BCC-CSM1-1' ... 'NorESM1-M'\n",
       "    seas      <U6 'Annual'\n",
       "Attributes:\n",
       "    units:    mm"
      ]
     },
     "execution_count": 123,
     "metadata": {},
     "output_type": "execute_result"
    }
   ],
   "source": [
    "max_n_day_pr_amt(pr, 5).sel(seas='Annual')"
   ]
  },
  {
   "cell_type": "markdown",
   "metadata": {},
   "source": [
    "#### max_cdd and max_cwd"
   ]
  },
  {
   "cell_type": "code",
   "execution_count": 126,
   "metadata": {},
   "outputs": [],
   "source": [
    "def max_consec_days(ds, metric, thresh='1 mm/day', **kwargs):\n",
    "    \n",
    "    if metric == 'cdd':\n",
    "        func = xc.indices.maximum_consecutive_dry_days\n",
    "    elif metric == 'cwd':\n",
    "        func = xc.indices.maximum_consecutive_wet_days\n",
    "        \n",
    "    \n",
    "    results = {}\n",
    "    \n",
    "    for seas in seasIndex:\n",
    "        results[seas] = func(selseas(ds, seas), thresh=thresh, **kwargs)\n",
    "        \n",
    "    res = xr.concat(results.values(), dim=seasIndex)\n",
    "    \n",
    "    return(res)"
   ]
  },
  {
   "cell_type": "code",
   "execution_count": 128,
   "metadata": {},
   "outputs": [
    {
     "data": {
      "text/plain": [
       "<xarray.DataArray 'value' (seas: 5, model: 21, time: 56)>\n",
       "array([[[24, 28, ..., 19, 37],\n",
       "        [39, 17, ..., 19, 14],\n",
       "        ...,\n",
       "        [17, 12, ..., 10, 19],\n",
       "        [23, 15, ..., 22, 20]],\n",
       "\n",
       "       [[ 0,  1, ...,  1,  1],\n",
       "        [ 0,  0, ...,  1,  1],\n",
       "        ...,\n",
       "        [ 1,  1, ...,  0,  1],\n",
       "        [ 0,  2, ...,  2,  2]],\n",
       "\n",
       "       ...,\n",
       "\n",
       "       [[24, 28, ..., 19, 37],\n",
       "        [39, 17, ..., 19, 14],\n",
       "        ...,\n",
       "        [17, 12, ..., 10, 19],\n",
       "        [23, 15, ..., 22, 20]],\n",
       "\n",
       "       [[ 1,  3, ...,  1,  4],\n",
       "        [ 3,  3, ...,  3,  2],\n",
       "        ...,\n",
       "        [ 1,  0, ...,  1,  1],\n",
       "        [ 2,  0, ...,  4,  3]]])\n",
       "Coordinates:\n",
       "  * time      (time) datetime64[ns] 1950-01-01 1951-01-01 ... 2005-01-01\n",
       "    variable  <U2 'pr'\n",
       "  * model     (model) object 'ACCESS1-0' 'BCC-CSM1-1' ... 'NorESM1-M'\n",
       "  * seas      (seas) object 'Annual' 'DJF' 'MAM' 'JJAS' 'ON'\n",
       "Attributes:\n",
       "    units:    days"
      ]
     },
     "execution_count": 128,
     "metadata": {},
     "output_type": "execute_result"
    }
   ],
   "source": [
    "max_consec_days(pr, 'cwd')"
   ]
  },
  {
   "cell_type": "markdown",
   "metadata": {},
   "source": [
    "#### cdd and cwd"
   ]
  },
  {
   "cell_type": "code",
   "execution_count": 194,
   "metadata": {
    "code_folding": []
   },
   "outputs": [],
   "source": [
    "def get_thresh_val_from_str(thresh):\n",
    "    p = re.compile(r'([\\-]?[0-9]+[\\.[0-9]?[0-9]?]?).')\n",
    "    thresh_val = float(p.search(thresh).groups()[0])\n",
    "    \n",
    "    return(thresh_val)"
   ]
  },
  {
   "cell_type": "code",
   "execution_count": 184,
   "metadata": {},
   "outputs": [],
   "source": [
    "def num_consec_days(ds, metric, thresh='1 mm/day', ndays=5):\n",
    "    thresh_val = get_thresh_val_from_str(thresh)\n",
    "    \n",
    "    if metric == 'cdd':\n",
    "        cond = ds < thresh_val\n",
    "    elif metric == 'cwd':\n",
    "        cond = ds > thresh_val\n",
    "        \n",
    "    results = {}\n",
    "    \n",
    "    for seas in seasIndex:\n",
    "        results[seas] = (selseas(cond, seas)\n",
    "                         .groupby('time.year')\n",
    "                         .apply(xc.run_length.windowed_run_count, window=ndays)\n",
    "                        )\n",
    "        \n",
    "    \n",
    "    res = xr.concat(results.values(), dim=seasIndex)\n",
    "    \n",
    "    return(res)\n",
    "\n",
    "    "
   ]
  },
  {
   "cell_type": "code",
   "execution_count": 207,
   "metadata": {},
   "outputs": [
    {
     "data": {
      "text/plain": [
       "<xarray.DataArray 'value' (seas: 5, model: 21, year: 56)>\n",
       "array([[[46, 87, ..., 40, 76],\n",
       "        [95, 65, ..., 61, 50],\n",
       "        ...,\n",
       "        [47, 20, ..., 27, 40],\n",
       "        [60, 22, ..., 43, 65]],\n",
       "\n",
       "       [[ 0,  0, ...,  0,  0],\n",
       "        [ 0,  0, ...,  0,  0],\n",
       "        ...,\n",
       "        [ 0,  0, ...,  0,  0],\n",
       "        [ 0,  0, ...,  0,  0]],\n",
       "\n",
       "       ...,\n",
       "\n",
       "       [[46, 86, ..., 40, 76],\n",
       "        [95, 65, ..., 61, 50],\n",
       "        ...,\n",
       "        [47, 20, ..., 27, 40],\n",
       "        [60, 22, ..., 43, 65]],\n",
       "\n",
       "       [[ 0,  0, ...,  0,  0],\n",
       "        [ 0,  0, ...,  0,  0],\n",
       "        ...,\n",
       "        [ 0,  0, ...,  0,  0],\n",
       "        [ 0,  0, ...,  0,  0]]])\n",
       "Coordinates:\n",
       "    variable  <U2 'pr'\n",
       "  * model     (model) object 'ACCESS1-0' 'BCC-CSM1-1' ... 'NorESM1-M'\n",
       "  * year      (year) int64 1950 1951 1952 1953 1954 ... 2001 2002 2003 2004 2005\n",
       "  * seas      (seas) object 'Annual' 'DJF' 'MAM' 'JJAS' 'ON'"
      ]
     },
     "execution_count": 207,
     "metadata": {},
     "output_type": "execute_result"
    }
   ],
   "source": [
    "num_consec_days(pr, 'cwd', thresh='1 mm/day', ndays=5)"
   ]
  },
  {
   "cell_type": "code",
   "execution_count": null,
   "metadata": {},
   "outputs": [],
   "source": []
  }
 ],
 "metadata": {
  "kernelspec": {
   "display_name": "Python 3",
   "language": "python",
   "name": "python3"
  },
  "language_info": {
   "codemirror_mode": {
    "name": "ipython",
    "version": 3
   },
   "file_extension": ".py",
   "mimetype": "text/x-python",
   "name": "python",
   "nbconvert_exporter": "python",
   "pygments_lexer": "ipython3",
   "version": "3.7.6"
  },
  "toc": {
   "base_numbering": 1,
   "nav_menu": {},
   "number_sections": true,
   "sideBar": true,
   "skip_h1_title": false,
   "title_cell": "Table of Contents",
   "title_sidebar": "Contents",
   "toc_cell": false,
   "toc_position": {},
   "toc_section_display": true,
   "toc_window_display": false
  },
  "varInspector": {
   "cols": {
    "lenName": 16,
    "lenType": 16,
    "lenVar": 40
   },
   "kernels_config": {
    "python": {
     "delete_cmd_postfix": "",
     "delete_cmd_prefix": "del ",
     "library": "var_list.py",
     "varRefreshCmd": "print(var_dic_list())"
    },
    "r": {
     "delete_cmd_postfix": ") ",
     "delete_cmd_prefix": "rm(",
     "library": "var_list.r",
     "varRefreshCmd": "cat(var_dic_list()) "
    }
   },
   "types_to_exclude": [
    "module",
    "function",
    "builtin_function_or_method",
    "instance",
    "_Feature"
   ],
   "window_display": false
  }
 },
 "nbformat": 4,
 "nbformat_minor": 2
}
