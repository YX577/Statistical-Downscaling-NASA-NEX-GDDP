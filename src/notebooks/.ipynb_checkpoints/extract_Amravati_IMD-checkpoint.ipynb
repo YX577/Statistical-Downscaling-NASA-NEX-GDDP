{
 "cells": [
  {
   "cell_type": "code",
   "execution_count": 1,
   "metadata": {},
   "outputs": [],
   "source": [
    "import xarray as xr\n",
    "from cdo import Cdo\n",
    "cdo = Cdo()\n",
    "import pandas as pd"
   ]
  },
  {
   "cell_type": "code",
   "execution_count": 27,
   "metadata": {},
   "outputs": [],
   "source": [
    "import sys\n",
    "sys.path.append(\"/home/abhi/Documents/mygit/postBC_diagnostic/src/scripts\")\n",
    "from recipes import *"
   ]
  },
  {
   "cell_type": "code",
   "execution_count": 28,
   "metadata": {},
   "outputs": [],
   "source": [
    "data_dir = '/home/abhi/Documents/data/OBSERVATION/IMD'"
   ]
  },
  {
   "cell_type": "code",
   "execution_count": 47,
   "metadata": {},
   "outputs": [
    {
     "name": "stdout",
     "output_type": "stream",
     "text": [
      "1971-2000_ll100.nc\t     1971-2000_rm_ll25.nc\r\n",
      "1971-2000_rm_ll25_360day.nc  IMD_MinT_1969_2005.nc\r\n"
     ]
    }
   ],
   "source": [
    "!ls {data_dir}/tmin"
   ]
  },
  {
   "cell_type": "code",
   "execution_count": 48,
   "metadata": {},
   "outputs": [],
   "source": [
    "files = {\n",
    "    'pr': f'{data_dir}/precip/IMD_pr_1901-2017.nc',\n",
    "    'tas': f'{data_dir}/tmean/IMD_MeanT_1969-2016.nc',\n",
    "    'tasmax': f'{data_dir}/tmax/IMD_MaxT_1969-2005.nc',\n",
    "    'tasmin': f'{data_dir}/tmin/IMD_MinT_1969_2005.nc'\n",
    "}"
   ]
  },
  {
   "cell_type": "code",
   "execution_count": 49,
   "metadata": {},
   "outputs": [],
   "source": [
    "def extract_ll_ds(nc, lon=77.75, lat=20.93):\n",
    "    o = cdo.remapnn(f'lon={lon}/lat={lat}',\n",
    "               input=f'-setvar,value -monmean -selyear,1976/2005 {nc}')\n",
    "    \n",
    "    ds = xr.open_dataset(o).mean(['lon', 'lat']).resample(time='M').mean('time')\n",
    "    \n",
    "    return(ds)\n",
    "    "
   ]
  },
  {
   "cell_type": "code",
   "execution_count": 50,
   "metadata": {},
   "outputs": [],
   "source": [
    "varIndex = pd.Index(['pr', 'tas', 'tasmax', 'tasmin'], name='variable')"
   ]
  },
  {
   "cell_type": "code",
   "execution_count": 51,
   "metadata": {},
   "outputs": [],
   "source": [
    "ds = xr.concat([extract_ll_ds(files[var]) for var in varIndex], \n",
    "              dim=varIndex)"
   ]
  },
  {
   "cell_type": "code",
   "execution_count": 61,
   "metadata": {},
   "outputs": [],
   "source": [
    "df = ds.to_dataframe().reset_index()"
   ]
  },
  {
   "cell_type": "code",
   "execution_count": 64,
   "metadata": {},
   "outputs": [],
   "source": [
    "def get_seas(month):\n",
    "    if month in [12, 1, 2]:\n",
    "        seas = 'DJF'\n",
    "    elif month in [3, 4, 5]:\n",
    "        seas = 'MAM'\n",
    "    elif month in [6, 7, 8, 9]:\n",
    "        seas = 'JJAS'\n",
    "    elif month in [10, 11]:\n",
    "        seas = 'ON'\n",
    "        \n",
    "    return(seas)"
   ]
  },
  {
   "cell_type": "code",
   "execution_count": 62,
   "metadata": {},
   "outputs": [],
   "source": [
    "df['year'] = df.time.dt.year\n",
    "df['month'] = df.time.dt.month"
   ]
  },
  {
   "cell_type": "code",
   "execution_count": 66,
   "metadata": {},
   "outputs": [],
   "source": [
    "df['seas'] = df.month.apply(get_seas)"
   ]
  },
  {
   "cell_type": "code",
   "execution_count": 70,
   "metadata": {},
   "outputs": [
    {
     "data": {
      "text/html": [
       "<div>\n",
       "<style scoped>\n",
       "    .dataframe tbody tr th:only-of-type {\n",
       "        vertical-align: middle;\n",
       "    }\n",
       "\n",
       "    .dataframe tbody tr th {\n",
       "        vertical-align: top;\n",
       "    }\n",
       "\n",
       "    .dataframe thead th {\n",
       "        text-align: right;\n",
       "    }\n",
       "</style>\n",
       "<table border=\"1\" class=\"dataframe\">\n",
       "  <thead>\n",
       "    <tr style=\"text-align: right;\">\n",
       "      <th></th>\n",
       "      <th>time</th>\n",
       "      <th>variable</th>\n",
       "      <th>value</th>\n",
       "      <th>year</th>\n",
       "      <th>month</th>\n",
       "      <th>seas</th>\n",
       "    </tr>\n",
       "  </thead>\n",
       "  <tbody>\n",
       "    <tr>\n",
       "      <th>0</th>\n",
       "      <td>1976-01-31</td>\n",
       "      <td>pr</td>\n",
       "      <td>0.024217</td>\n",
       "      <td>1976</td>\n",
       "      <td>1</td>\n",
       "      <td>DJF</td>\n",
       "    </tr>\n",
       "    <tr>\n",
       "      <th>1</th>\n",
       "      <td>1976-01-31</td>\n",
       "      <td>tas</td>\n",
       "      <td>20.474291</td>\n",
       "      <td>1976</td>\n",
       "      <td>1</td>\n",
       "      <td>DJF</td>\n",
       "    </tr>\n",
       "    <tr>\n",
       "      <th>2</th>\n",
       "      <td>1976-01-31</td>\n",
       "      <td>tasmax</td>\n",
       "      <td>28.292179</td>\n",
       "      <td>1976</td>\n",
       "      <td>1</td>\n",
       "      <td>DJF</td>\n",
       "    </tr>\n",
       "    <tr>\n",
       "      <th>3</th>\n",
       "      <td>1976-01-31</td>\n",
       "      <td>tasmin</td>\n",
       "      <td>12.656405</td>\n",
       "      <td>1976</td>\n",
       "      <td>1</td>\n",
       "      <td>DJF</td>\n",
       "    </tr>\n",
       "    <tr>\n",
       "      <th>4</th>\n",
       "      <td>1976-02-29</td>\n",
       "      <td>pr</td>\n",
       "      <td>0.000000</td>\n",
       "      <td>1976</td>\n",
       "      <td>2</td>\n",
       "      <td>DJF</td>\n",
       "    </tr>\n",
       "  </tbody>\n",
       "</table>\n",
       "</div>"
      ],
      "text/plain": [
       "        time variable      value  year  month seas\n",
       "0 1976-01-31       pr   0.024217  1976      1  DJF\n",
       "1 1976-01-31      tas  20.474291  1976      1  DJF\n",
       "2 1976-01-31   tasmax  28.292179  1976      1  DJF\n",
       "3 1976-01-31   tasmin  12.656405  1976      1  DJF\n",
       "4 1976-02-29       pr   0.000000  1976      2  DJF"
      ]
     },
     "execution_count": 70,
     "metadata": {},
     "output_type": "execute_result"
    }
   ],
   "source": [
    "df.head()"
   ]
  },
  {
   "cell_type": "code",
   "execution_count": 76,
   "metadata": {},
   "outputs": [],
   "source": [
    "df_seas_ymean = df.groupby(['variable', 'seas', 'year']).mean().reset_index().drop('month', axis=1)"
   ]
  },
  {
   "cell_type": "code",
   "execution_count": 82,
   "metadata": {},
   "outputs": [],
   "source": [
    "df_ann_ymean = df.groupby(['variable', 'year']).mean().reset_index().drop('month', axis=1)\n",
    "df_ann_ymean['seas'] = 'Annual'"
   ]
  },
  {
   "cell_type": "code",
   "execution_count": 85,
   "metadata": {},
   "outputs": [],
   "source": [
    "df_comb = pd.concat([df_seas_ymean, df_ann_ymean], sort=False)"
   ]
  },
  {
   "cell_type": "code",
   "execution_count": 88,
   "metadata": {},
   "outputs": [],
   "source": [
    "df_comb.to_csv('/home/abhi/Documents/mygit/NEX-Analysis/pickles/Amravati/IMD/Amravati_allvars_seas_ymean_1976-2005.csv',\n",
    "              index=False)"
   ]
  }
 ],
 "metadata": {
  "kernelspec": {
   "display_name": "Python 3",
   "language": "python",
   "name": "python3"
  },
  "language_info": {
   "codemirror_mode": {
    "name": "ipython",
    "version": 3
   },
   "file_extension": ".py",
   "mimetype": "text/x-python",
   "name": "python",
   "nbconvert_exporter": "python",
   "pygments_lexer": "ipython3",
   "version": "3.6.7"
  },
  "toc": {
   "base_numbering": 1,
   "nav_menu": {},
   "number_sections": true,
   "sideBar": true,
   "skip_h1_title": false,
   "title_cell": "Table of Contents",
   "title_sidebar": "Contents",
   "toc_cell": false,
   "toc_position": {},
   "toc_section_display": true,
   "toc_window_display": false
  },
  "varInspector": {
   "cols": {
    "lenName": 16,
    "lenType": 16,
    "lenVar": 40
   },
   "kernels_config": {
    "python": {
     "delete_cmd_postfix": "",
     "delete_cmd_prefix": "del ",
     "library": "var_list.py",
     "varRefreshCmd": "print(var_dic_list())"
    },
    "r": {
     "delete_cmd_postfix": ") ",
     "delete_cmd_prefix": "rm(",
     "library": "var_list.r",
     "varRefreshCmd": "cat(var_dic_list()) "
    }
   },
   "types_to_exclude": [
    "module",
    "function",
    "builtin_function_or_method",
    "instance",
    "_Feature"
   ],
   "window_display": false
  }
 },
 "nbformat": 4,
 "nbformat_minor": 2
}
