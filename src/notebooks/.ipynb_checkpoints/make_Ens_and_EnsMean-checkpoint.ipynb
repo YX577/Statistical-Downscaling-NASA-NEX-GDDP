{
 "cells": [
  {
   "cell_type": "code",
   "execution_count": 69,
   "metadata": {},
   "outputs": [],
   "source": [
    "from cdo import Cdo\n",
    "import xarray as xr\n",
    "import os\n",
    "import sys\n",
    "from pathlib import Path\n",
    "import glob\n",
    "import difflib\n",
    "from collections import OrderedDict\n",
    "import re"
   ]
  },
  {
   "cell_type": "code",
   "execution_count": 73,
   "metadata": {},
   "outputs": [],
   "source": [
    "cdo = Cdo()"
   ]
  },
  {
   "cell_type": "code",
   "execution_count": 133,
   "metadata": {},
   "outputs": [
    {
     "data": {
      "text/plain": [
       "0"
      ]
     },
     "execution_count": 133,
     "metadata": {},
     "output_type": "execute_result"
    }
   ],
   "source": [
    "DATA_DIR = Path('/media/abhi/My_Passport/NEX-GDDP-NASA')\n",
    "OUT_DIR = Path('/media/abhi/My_Passport/NEX-GDDP-NASA-OUTPUT')\n",
    "os.system(f'mkdir -p \"{OUT_DIR}\"')"
   ]
  },
  {
   "cell_type": "code",
   "execution_count": 134,
   "metadata": {},
   "outputs": [],
   "source": [
    "models =   [dI for dI in os.listdir(DATA_DIR) \n",
    "           if os.path.isdir(os.path.join(DATA_DIR,dI))]\n",
    "\n",
    "variables = ['pr', 'tasmax', 'tasmin']\n",
    "scen = ['historical', 'rcp45', 'rcp85']"
   ]
  },
  {
   "cell_type": "code",
   "execution_count": 135,
   "metadata": {},
   "outputs": [],
   "source": [
    "possibilities = OrderedDict({'model': models,\n",
    "                             'variable': variables,\n",
    "                             'scen': scen})"
   ]
  },
  {
   "cell_type": "code",
   "execution_count": 136,
   "metadata": {},
   "outputs": [],
   "source": [
    "def get_apt_names(model, variable, scen):\n",
    "    model, variable, scen = [difflib.get_close_matches(word, possible, n=1, cutoff=0)[0]\n",
    "                             for word, possible in zip([model, variable, scen], \n",
    "                                                       possibilities.values())]\n",
    "    \n",
    "    return [model, variable, scen]"
   ]
  },
  {
   "cell_type": "code",
   "execution_count": 137,
   "metadata": {},
   "outputs": [],
   "source": [
    "def get_model_files(model, variable, scen):\n",
    "    model, variable, scen = get_apt_names(model, variable, scen)\n",
    "    \n",
    "    return glob.glob(f'{DATA_DIR}/{model}/{variable}/*{scen}*.nc')"
   ]
  },
  {
   "cell_type": "code",
   "execution_count": 139,
   "metadata": {},
   "outputs": [],
   "source": [
    "def make_year_combined_file(model, variable, scen, outdir=None):\n",
    "    \n",
    "    model, variable, scen = get_apt_names(model, variable, scen)\n",
    "\n",
    "    model_files = get_model_files(model, variable, scen)\n",
    "    \n",
    "    # Make outdir\n",
    "    outdir = f'{OUT_DIR}/model_year_combined/{model}/{variable}'\n",
    "    any_file = model_files[0]\n",
    "    ens_id =  Path(any_file).name.split('_')[-2]\n",
    "    os.system(f'mkdir -p {outdir}')\n",
    "    \n",
    "    cmd = ' '.join(model_files)\n",
    "    \n",
    "    outname = '_'.join([variable, 'day', model, scen, '1950-2005.nc'])\n",
    "\n",
    "    cdo.mergetime(input=cmd,\n",
    "                  output=f\"{outdir}/tmp.nc\",\n",
    "                 env={\"SKIP_SAME_TIME\": \"1\"})\n",
    "    \n",
    "    cdo.mulc('86400', input=f\"{outdir}/tmp.nc\",\n",
    "            output=f\"{outdir}/{outname}\")\n",
    "    \n",
    "    os.system(f'rm {outdir}/tmp.nc')\n",
    "    \n",
    "  \n",
    "    "
   ]
  },
  {
   "cell_type": "code",
   "execution_count": 140,
   "metadata": {},
   "outputs": [
    {
     "name": "stdout",
     "output_type": "stream",
     "text": [
      "CPU times: user 0 ns, sys: 0 ns, total: 0 ns\n",
      "Wall time: 10.5 µs\n"
     ]
    },
    {
     "ename": "TypeError",
     "evalue": "unsupported operand type(s) for /: 'str' and 'str'",
     "output_type": "error",
     "traceback": [
      "\u001b[0;31m---------------------------------------------------------------------------\u001b[0m",
      "\u001b[0;31mTypeError\u001b[0m                                 Traceback (most recent call last)",
      "\u001b[0;32m<ipython-input-140-7645fd7139e5>\u001b[0m in \u001b[0;36m<module>\u001b[0;34m\u001b[0m\n\u001b[1;32m      1\u001b[0m \u001b[0mget_ipython\u001b[0m\u001b[0;34m(\u001b[0m\u001b[0;34m)\u001b[0m\u001b[0;34m.\u001b[0m\u001b[0mrun_line_magic\u001b[0m\u001b[0;34m(\u001b[0m\u001b[0;34m'time'\u001b[0m\u001b[0;34m,\u001b[0m \u001b[0;34m''\u001b[0m\u001b[0;34m)\u001b[0m\u001b[0;34m\u001b[0m\u001b[0;34m\u001b[0m\u001b[0m\n\u001b[0;32m----> 2\u001b[0;31m \u001b[0mmake_year_combined_file\u001b[0m\u001b[0;34m(\u001b[0m\u001b[0;34m'ACCESS1-0'\u001b[0m\u001b[0;34m,\u001b[0m \u001b[0;34m'pr'\u001b[0m\u001b[0;34m,\u001b[0m \u001b[0;34m'hist'\u001b[0m\u001b[0;34m)\u001b[0m\u001b[0;34m\u001b[0m\u001b[0;34m\u001b[0m\u001b[0m\n\u001b[0m",
      "\u001b[0;32m<ipython-input-139-1ba776884931>\u001b[0m in \u001b[0;36mmake_year_combined_file\u001b[0;34m(model, variable, scen, outdir)\u001b[0m\n\u001b[1;32m     20\u001b[0m \u001b[0;34m\u001b[0m\u001b[0m\n\u001b[1;32m     21\u001b[0m     cdo.mulc('86400', input=f\"{outdir}/tmp.nc\",\n\u001b[0;32m---> 22\u001b[0;31m             output=outdir/outname)\n\u001b[0m\u001b[1;32m     23\u001b[0m \u001b[0;34m\u001b[0m\u001b[0m\n\u001b[1;32m     24\u001b[0m     \u001b[0mos\u001b[0m\u001b[0;34m.\u001b[0m\u001b[0msystem\u001b[0m\u001b[0;34m(\u001b[0m\u001b[0;34mf'rm {outdir}/tmp.nc'\u001b[0m\u001b[0;34m)\u001b[0m\u001b[0;34m\u001b[0m\u001b[0;34m\u001b[0m\u001b[0m\n",
      "\u001b[0;31mTypeError\u001b[0m: unsupported operand type(s) for /: 'str' and 'str'"
     ]
    }
   ],
   "source": [
    "%time\n",
    "make_year_combined_file('ACCESS1-0', 'pr', 'hist')"
   ]
  },
  {
   "cell_type": "code",
   "execution_count": null,
   "metadata": {},
   "outputs": [],
   "source": []
  }
 ],
 "metadata": {
  "kernelspec": {
   "display_name": "Python 3",
   "language": "python",
   "name": "python3"
  },
  "language_info": {
   "codemirror_mode": {
    "name": "ipython",
    "version": 3
   },
   "file_extension": ".py",
   "mimetype": "text/x-python",
   "name": "python",
   "nbconvert_exporter": "python",
   "pygments_lexer": "ipython3",
   "version": "3.6.7"
  },
  "toc": {
   "base_numbering": 1,
   "nav_menu": {},
   "number_sections": true,
   "sideBar": true,
   "skip_h1_title": false,
   "title_cell": "Table of Contents",
   "title_sidebar": "Contents",
   "toc_cell": false,
   "toc_position": {},
   "toc_section_display": true,
   "toc_window_display": false
  },
  "varInspector": {
   "cols": {
    "lenName": 16,
    "lenType": 16,
    "lenVar": 40
   },
   "kernels_config": {
    "python": {
     "delete_cmd_postfix": "",
     "delete_cmd_prefix": "del ",
     "library": "var_list.py",
     "varRefreshCmd": "print(var_dic_list())"
    },
    "r": {
     "delete_cmd_postfix": ") ",
     "delete_cmd_prefix": "rm(",
     "library": "var_list.r",
     "varRefreshCmd": "cat(var_dic_list()) "
    }
   },
   "types_to_exclude": [
    "module",
    "function",
    "builtin_function_or_method",
    "instance",
    "_Feature"
   ],
   "window_display": false
  }
 },
 "nbformat": 4,
 "nbformat_minor": 2
}
