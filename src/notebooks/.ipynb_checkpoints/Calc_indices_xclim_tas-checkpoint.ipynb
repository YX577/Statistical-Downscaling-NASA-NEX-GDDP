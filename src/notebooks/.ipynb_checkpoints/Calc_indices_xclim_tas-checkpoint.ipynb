{
 "cells": [
  {
   "cell_type": "code",
   "execution_count": 3,
   "metadata": {},
   "outputs": [],
   "source": [
    "import xclim as xc\n",
    "import xarray as xr\n",
    "import _pickle as cpickle\n",
    "import numpy as np\n",
    "import re"
   ]
  },
  {
   "cell_type": "code",
   "execution_count": 4,
   "metadata": {},
   "outputs": [],
   "source": [
    "import sys\n",
    "sys.path.append('../scripts/')\n",
    "sys.path.append(\"/home/abhi/Documents/mygit/postBC_diagnostic/src/scripts\")\n",
    "from recipes import *"
   ]
  },
  {
   "cell_type": "code",
   "execution_count": 5,
   "metadata": {},
   "outputs": [],
   "source": [
    "seasIndex = pd.Index(['Annual', 'DJF', 'MAM', 'JJAS', 'ON'], name='seas')"
   ]
  },
  {
   "cell_type": "code",
   "execution_count": 30,
   "metadata": {},
   "outputs": [],
   "source": [
    "def get_thresh_val_from_str(thresh):\n",
    "    p = re.compile(r'([\\-]?[0-9]+[\\.[0-9]?[0-9]?]?).')\n",
    "    thresh_val = float(p.search(thresh).groups()[0])\n",
    "    \n",
    "    return(thresh_val)"
   ]
  },
  {
   "cell_type": "code",
   "execution_count": 31,
   "metadata": {},
   "outputs": [],
   "source": [
    "def change_units(ds, to='mm/day', copy=True):\n",
    "    if copy:\n",
    "        ds = ds.copy()\n",
    "        \n",
    "    ds.attrs['units'] = to\n",
    "    return(ds)\n",
    "    "
   ]
  },
  {
   "cell_type": "markdown",
   "metadata": {},
   "source": [
    "### Load the dataset"
   ]
  },
  {
   "cell_type": "code",
   "execution_count": 71,
   "metadata": {},
   "outputs": [],
   "source": [
    "with open('../../pickles/Amravati/Amravati_ALL21_rcp45_ds.pkl', 'rb') as f:\n",
    "    ds = cpickle.load(f)"
   ]
  },
  {
   "cell_type": "markdown",
   "metadata": {},
   "source": [
    "### Extract out the temperature dataarray and subract 273.15"
   ]
  },
  {
   "cell_type": "code",
   "execution_count": 75,
   "metadata": {},
   "outputs": [],
   "source": [
    "tas = selyear(ds.sel(variable='tasmax')['value'] - 273.15, range(2006, 2091))\n",
    "tas.attrs['units'] = 'degC'"
   ]
  },
  {
   "cell_type": "code",
   "execution_count": 76,
   "metadata": {},
   "outputs": [
    {
     "data": {
      "text/plain": [
       "<xarray.DataArray 'value' (model: 21, time: 31025)>\n",
       "array([[29.848328, 30.06076 , 29.960999, ..., 32.606537, 32.58072 , 32.876434],\n",
       "       [27.095459, 27.21576 , 27.544983, ..., 28.65979 , 29.22937 , 29.926056],\n",
       "       [23.39972 , 28.66919 , 28.083252, ..., 29.707153, 29.700867, 30.04953 ],\n",
       "       ...,\n",
       "       [27.874695, 28.551178, 28.186554, ..., 31.342346, 31.139526, 31.207886],\n",
       "       [29.284119, 29.195953, 28.045227, ..., 28.058105, 26.04306 , 27.286713],\n",
       "       [25.445953, 26.126465, 27.666534, ..., 30.492615, 30.723969, 31.201477]],\n",
       "      dtype=float32)\n",
       "Coordinates:\n",
       "  * time      (time) datetime64[ns] 2006-01-01T12:00:00 ... 2090-12-31T12:00:00\n",
       "    variable  <U6 'tasmax'\n",
       "  * model     (model) object 'ACCESS1-0' 'BCC-CSM1-1' ... 'NorESM1-M'\n",
       "Attributes:\n",
       "    units:    degC"
      ]
     },
     "execution_count": 76,
     "metadata": {},
     "output_type": "execute_result"
    }
   ],
   "source": [
    "tas"
   ]
  },
  {
   "cell_type": "markdown",
   "metadata": {},
   "source": [
    "### Indices calculation"
   ]
  },
  {
   "cell_type": "markdown",
   "metadata": {},
   "source": [
    "#### intensity_above_thresh"
   ]
  },
  {
   "cell_type": "code",
   "execution_count": 77,
   "metadata": {},
   "outputs": [],
   "source": [
    "def yearseasmean(ds):\n",
    "    res = xr.concat([yearmean(ds)] + [yearmean(selseas(ds, seas)) for seas in seasIndex[1:]],\n",
    "                   dim=seasIndex)\n",
    "    \n",
    "    return(res)"
   ]
  },
  {
   "cell_type": "code",
   "execution_count": 78,
   "metadata": {},
   "outputs": [],
   "source": [
    "def intensity_above_thresh(ds, thresh='35 degC', freq='MS'):\n",
    "    thresh_val = get_thresh_val_from_str(thresh)\n",
    "    ds = change_units(ds)\n",
    "    res = yearseasmean(xc.indices.daily_pr_intensity(ds, thresh=f'{thresh_val} mm/day', freq='MS'))\n",
    "    return(res)\n",
    "    "
   ]
  },
  {
   "cell_type": "code",
   "execution_count": 79,
   "metadata": {},
   "outputs": [
    {
     "data": {
      "text/plain": [
       "<xarray.DataArray 'value' (seas: 5, model: 21, year: 85)>\n",
       "array([[[34.466597, 35.180485, ..., 37.814626, 36.514033],\n",
       "        [35.190814, 34.603075, ..., 35.471004, 35.428859],\n",
       "        ...,\n",
       "        [35.367318, 34.449661, ..., 35.384979, 34.923479],\n",
       "        [34.213549, 34.238128, ..., 35.500176, 35.711884]],\n",
       "\n",
       "       [[31.93941 , 31.742583, ..., 34.352622, 33.680055],\n",
       "        [32.239826, 31.709713, ..., 32.668328, 32.149023],\n",
       "        ...,\n",
       "        [32.325512, 31.188306, ..., 31.405098, 31.242154],\n",
       "        [30.849564, 31.832765, ..., 31.306645, 31.453185]],\n",
       "\n",
       "       ...,\n",
       "\n",
       "       [[32.564561, 35.154242, ..., 36.390031, 34.215542],\n",
       "        [33.990325, 33.601943, ..., 33.132887, 34.122001],\n",
       "        ...,\n",
       "        [34.869334, 33.484928, ..., 34.569451, 34.297726],\n",
       "        [32.939984, 32.226087, ..., 35.203306, 33.678669]],\n",
       "\n",
       "       [[34.478232, 34.286878, ..., 36.966021, 35.878744],\n",
       "        [33.420214, 32.210951, ..., 35.20913 , 33.569437],\n",
       "        ...,\n",
       "        [32.403053, 33.813742, ..., 32.121642, 32.248408],\n",
       "        [32.688438, 32.18172 , ..., 34.94125 , 35.642098]]])\n",
       "Coordinates:\n",
       "    variable  <U6 'tasmax'\n",
       "  * model     (model) object 'ACCESS1-0' 'BCC-CSM1-1' ... 'NorESM1-M'\n",
       "  * year      (year) int64 2006 2007 2008 2009 2010 ... 2086 2087 2088 2089 2090\n",
       "  * seas      (seas) object 'Annual' 'DJF' 'MAM' 'JJAS' 'ON'"
      ]
     },
     "execution_count": 79,
     "metadata": {},
     "output_type": "execute_result"
    }
   ],
   "source": [
    "intensity_above_thresh(tas, '30 degC')"
   ]
  },
  {
   "cell_type": "markdown",
   "metadata": {},
   "source": [
    "#### days_above_thresh"
   ]
  },
  {
   "cell_type": "code",
   "execution_count": 13,
   "metadata": {},
   "outputs": [],
   "source": [
    "def yearsum(xr_ds):\n",
    "    return xr_ds.groupby('time.year').sum('time')"
   ]
  },
  {
   "cell_type": "code",
   "execution_count": 14,
   "metadata": {},
   "outputs": [],
   "source": [
    "def yearseassum(ds):\n",
    "    res = xr.concat([yearsum(ds)] + [yearsum(selseas(ds, seas)) for seas in seasIndex[1:]],\n",
    "                   dim=seasIndex)\n",
    "    \n",
    "    return(res)"
   ]
  },
  {
   "cell_type": "code",
   "execution_count": 47,
   "metadata": {},
   "outputs": [],
   "source": [
    "def days_above_thresh(ds, thresh='35 degC', freq='MS'):\n",
    "    thresh_val = get_thresh_val_from_str(thresh)\n",
    "    ds = change_units(ds)\n",
    "    res = yearseassum(xc.indices.wetdays(ds, thresh=f'{thresh_val} mm/day', freq='MS'))\n",
    "    return(res)\n",
    "    "
   ]
  },
  {
   "cell_type": "code",
   "execution_count": 80,
   "metadata": {},
   "outputs": [
    {
     "data": {
      "text/plain": [
       "<xarray.DataArray 'value' (seas: 5, model: 21, year: 85)>\n",
       "array([[[ 50,  57, ..., 106,  82],\n",
       "        [ 63,  65, ...,  76,  77],\n",
       "        ...,\n",
       "        [ 78,  60, ...,  66,  74],\n",
       "        [ 65,  57, ...,  67,  88]],\n",
       "\n",
       "       [[  0,   0, ...,   1,   0],\n",
       "        [  0,   0, ...,   0,   0],\n",
       "        ...,\n",
       "        [  0,   0, ...,   0,   0],\n",
       "        [  0,   0, ...,   0,   0]],\n",
       "\n",
       "       ...,\n",
       "\n",
       "       [[  4,  17, ...,  22,  10],\n",
       "        [ 20,  11, ...,  15,  15],\n",
       "        ...,\n",
       "        [ 22,  15, ...,  13,  10],\n",
       "        [  5,   0, ...,  17,  15]],\n",
       "\n",
       "       [[  0,   0, ...,   0,   0],\n",
       "        [  0,   0, ...,   0,   0],\n",
       "        ...,\n",
       "        [  0,   0, ...,   0,   0],\n",
       "        [  0,   0, ...,   0,   3]]])\n",
       "Coordinates:\n",
       "    variable  <U6 'tasmax'\n",
       "  * model     (model) object 'ACCESS1-0' 'BCC-CSM1-1' ... 'NorESM1-M'\n",
       "  * year      (year) int64 2006 2007 2008 2009 2010 ... 2086 2087 2088 2089 2090\n",
       "  * seas      (seas) object 'Annual' 'DJF' 'MAM' 'JJAS' 'ON'"
      ]
     },
     "execution_count": 80,
     "metadata": {},
     "output_type": "execute_result"
    }
   ],
   "source": [
    "days_above_thresh(tas, '40 degC')"
   ]
  },
  {
   "cell_type": "markdown",
   "metadata": {},
   "source": [
    "#### intensity_above_pctl and days_above_pctl\n",
    "\n",
    "Ways of calculating pctl:\n",
    "    1) Whole time series\n",
    "    2) Month wise\n",
    "    3) Season wise\n",
    "    4) Day of year wise"
   ]
  },
  {
   "cell_type": "code",
   "execution_count": 81,
   "metadata": {},
   "outputs": [],
   "source": [
    "def groupby(ds, method='whole'):\n",
    "    if method == 'whole':\n",
    "        ds = ds\n",
    "    elif method == 'month':\n",
    "        ds = ds.groupby('time.month')\n",
    "    elif method == 'doy':\n",
    "        ds = ds.groupby('time.dayofyear')\n",
    "    elif method == 'seas':\n",
    "        ds = groupbyseas(ds)\n",
    "        \n",
    "    return(ds)"
   ]
  },
  {
   "cell_type": "code",
   "execution_count": 82,
   "metadata": {},
   "outputs": [],
   "source": [
    "def calc_pctl(ds, q, method='whole'):\n",
    "    ds = groupby(ds, method=method)\n",
    "    res = ds.reduce(np.percentile, q=q, dim='time')\n",
    "        \n",
    "    return(res)"
   ]
  },
  {
   "cell_type": "code",
   "execution_count": 83,
   "metadata": {},
   "outputs": [],
   "source": [
    "def intensity_and_days_above_pctl(ds_fut, ds_base, pctl=90):\n",
    "    qseas = calc_pctl(ds_base, pctl, method='seas')\n",
    "    qwhole = calc_pctl(ds_base, pctl, method='whole')\n",
    "    \n",
    "    q = xr.concat([qwhole] + [qseas.sel(seas=seas).drop('seas') for seas in seasIndex[1:]],\n",
    "          dim=seasIndex)\n",
    "    \n",
    "    results = {'intensity': [],\n",
    "               'days': []}\n",
    "    \n",
    "    for seas in seasIndex:\n",
    "        anom  = selseas(ds_fut, seas).groupby('model') - q.sel(seas=seas)\n",
    "        anom.attrs['units'] = 'mm/day'\n",
    "        \n",
    "        results['days'].append(xc.indices.wetdays(anom, '0 mm/day', freq='YS'))\n",
    "        results['intensity'].append(ds.where(anom > 0).resample(time='YS').mean())\n",
    "        \n",
    "    \n",
    "    for k, dsets in results.items():\n",
    "        results[k] = xr.concat(dsets, dim=seasIndex)\n",
    "    \n",
    "    \n",
    "    return(results)\n",
    "    "
   ]
  },
  {
   "cell_type": "code",
   "execution_count": 84,
   "metadata": {},
   "outputs": [],
   "source": [
    "anom = tas.groupby('model') - calc_pctl(tas, 90)"
   ]
  },
  {
   "cell_type": "code",
   "execution_count": 88,
   "metadata": {},
   "outputs": [
    {
     "data": {
      "text/plain": [
       "<xarray.DataArray 'value' (time: 85)>\n",
       "array([44.173443, 44.232254, 44.070698, 44.18483 , 44.26026 , 44.211082,\n",
       "       44.181343, 44.260715, 44.253044, 44.39904 , 44.46798 , 44.3764  ,\n",
       "       44.21947 , 44.143337, 44.424202, 44.308823, 44.47557 , 44.491795,\n",
       "       44.398197, 44.441616, 44.45949 , 44.506195, 44.40761 , 44.495342,\n",
       "       44.509483, 44.591423, 44.6413  , 44.611702, 44.717735, 44.57275 ,\n",
       "       44.54328 , 44.70876 , 44.59604 , 44.76798 , 44.736057, 44.5898  ,\n",
       "       44.639782, 44.734447, 44.82706 , 44.681175, 44.623943, 44.67661 ,\n",
       "       44.73569 , 44.781822, 44.769592, 44.858025, 44.66146 , 44.819145,\n",
       "       44.702374, 44.78654 , 44.876328, 44.790836, 44.88381 , 44.87156 ,\n",
       "       44.92249 , 44.96757 , 45.020473, 44.985703, 45.085842, 45.103695,\n",
       "       45.13336 , 45.15758 , 45.069065, 45.07003 , 44.86124 , 45.150936,\n",
       "       44.99669 , 44.827038, 44.982113, 45.038483, 44.85581 , 45.018913,\n",
       "       44.910904, 45.02739 , 45.022182, 45.12421 , 45.045395, 45.11993 ,\n",
       "       44.93647 , 45.104237, 45.15629 , 45.25003 , 44.946823, 45.050117,\n",
       "       45.15264 ], dtype=float32)\n",
       "Coordinates:\n",
       "  * time      (time) datetime64[ns] 2006-01-01 2007-01-01 ... 2090-01-01\n",
       "    variable  <U6 'tasmax'"
      ]
     },
     "execution_count": 88,
     "metadata": {},
     "output_type": "execute_result"
    }
   ],
   "source": [
    "tas.where(anom > 0).resample(time='YS').mean()"
   ]
  },
  {
   "cell_type": "code",
   "execution_count": 86,
   "metadata": {},
   "outputs": [
    {
     "data": {
      "text/plain": [
       "{'intensity': <xarray.DataArray 'value' (seas: 5, model: 21, time: 85)>\n",
       " array([[[0.337823, 0.696426, ..., 2.540898, 2.326361],\n",
       "         [1.114039, 1.230969, ..., 1.477931, 1.858401],\n",
       "         ...,\n",
       "         [1.032903, 0.926061, ..., 1.893272, 1.063758],\n",
       "         [0.187201, 0.587122, ..., 1.289288, 2.781661]],\n",
       " \n",
       "        [[     nan,      nan, ..., 1.733619, 0.75071 ],\n",
       "         [0.994872, 1.245564, ..., 1.632838, 2.334591],\n",
       "         ...,\n",
       "         [1.773292, 0.851179, ..., 1.102956,      nan],\n",
       "         [0.500072, 1.556723, ...,      nan,      nan]],\n",
       " \n",
       "        ...,\n",
       " \n",
       "        [[     nan, 1.696701, ..., 5.018556, 1.24028 ],\n",
       "         [2.741449, 1.218063, ..., 3.650331, 2.751341],\n",
       "         ...,\n",
       "         [2.623056, 1.201176, ..., 2.723113, 2.33786 ],\n",
       "         [3.564828,      nan, ..., 3.434924, 4.531631]],\n",
       " \n",
       "        [[0.100061, 0.544611, ..., 1.350287, 0.541793],\n",
       "         [0.056628,      nan, ..., 0.811951,      nan],\n",
       "         ...,\n",
       "         [     nan, 0.314616, ...,      nan,      nan],\n",
       "         [0.294246,      nan, ..., 1.25343 , 2.113243]]])\n",
       " Coordinates:\n",
       "   * time      (time) datetime64[ns] 2006-01-01 2007-01-01 ... 2090-01-01\n",
       "     variable  <U6 'tasmax'\n",
       "   * model     (model) object 'ACCESS1-0' 'BCC-CSM1-1' ... 'NorESM1-M'\n",
       "   * seas      (seas) object 'Annual' 'DJF' 'MAM' 'JJAS' 'ON'\n",
       " Attributes:\n",
       "     units:    mm/day,\n",
       " 'days': <xarray.DataArray 'value' (seas: 5, model: 21, time: 85)>\n",
       " array([[[ 9,  6, ..., 69, 48],\n",
       "         [24, 20, ..., 43, 48],\n",
       "         ...,\n",
       "         [32, 12, ..., 45, 41],\n",
       "         [ 5, 19, ..., 55, 56]],\n",
       " \n",
       "        [[ 0,  0, ..., 18, 19],\n",
       "         [ 3,  3, ..., 13,  7],\n",
       "         ...,\n",
       "         [ 9,  7, ...,  3,  0],\n",
       "         [ 3,  8, ...,  0,  0]],\n",
       " \n",
       "        ...,\n",
       " \n",
       "        [[ 0, 13, ..., 18,  8],\n",
       "         [19, 10, ..., 13, 13],\n",
       "         ...,\n",
       "         [21, 12, ..., 12, 10],\n",
       "         [ 5,  0, ..., 25, 16]],\n",
       " \n",
       "        [[ 1,  1, ..., 37,  9],\n",
       "         [ 2,  0, ..., 15,  0],\n",
       "         ...,\n",
       "         [ 0,  4, ...,  0,  0],\n",
       "         [ 3,  0, ..., 19, 27]]])\n",
       " Coordinates:\n",
       "   * time      (time) datetime64[ns] 2006-01-01 2007-01-01 ... 2090-01-01\n",
       "     variable  <U6 'tasmax'\n",
       "   * model     (model) object 'ACCESS1-0' 'BCC-CSM1-1' ... 'NorESM1-M'\n",
       "   * seas      (seas) object 'Annual' 'DJF' 'MAM' 'JJAS' 'ON'\n",
       " Attributes:\n",
       "     units:    days}"
      ]
     },
     "execution_count": 86,
     "metadata": {},
     "output_type": "execute_result"
    }
   ],
   "source": [
    "intensity_and_days_above_pctl(tas, tas, 90)"
   ]
  },
  {
   "cell_type": "code",
   "execution_count": 56,
   "metadata": {},
   "outputs": [
    {
     "data": {
      "text/plain": [
       "<xarray.DataArray 'value' (seas: 5)>\n",
       "array([ 1.362235, -0.002647,  0.014557,  1.731596,  0.794534])\n",
       "Coordinates:\n",
       "    variable  <U2 'pr'\n",
       "  * seas      (seas) object 'Annual' 'DJF' 'MAM' 'JJAS' 'ON'"
      ]
     },
     "execution_count": 56,
     "metadata": {},
     "output_type": "execute_result"
    }
   ],
   "source": [
    "selyear(res, range(2021, 2051)).mean(dim=['model', 'time'])\n"
   ]
  },
  {
   "cell_type": "code",
   "execution_count": 114,
   "metadata": {},
   "outputs": [
    {
     "data": {
      "text/plain": [
       "<xarray.DataArray 'value' (model: 21)>\n",
       "array([342, 342, 342, 342, 342, 342, 330, 342, 342, 342, 342, 342, 342, 342,\n",
       "       342, 342, 311, 342, 342, 289, 342])\n",
       "Coordinates:\n",
       "    variable  <U2 'pr'\n",
       "    seas      <U2 'ON'\n",
       "  * model     (model) object 'ACCESS1-0' 'BCC-CSM1-1' ... 'NorESM1-M'"
      ]
     },
     "execution_count": 114,
     "metadata": {},
     "output_type": "execute_result"
    }
   ],
   "source": [
    "(res>0).sum(dim='time')"
   ]
  },
  {
   "cell_type": "markdown",
   "metadata": {},
   "source": [
    "####  max_n_day_pr_amt "
   ]
  },
  {
   "cell_type": "code",
   "execution_count": 104,
   "metadata": {},
   "outputs": [],
   "source": [
    "def max_n_day_tas_mean(ds, ndays, **kwargs):\n",
    "    ds = change_units(ds)\n",
    "    results = {}\n",
    "    \n",
    "    for seas in seasIndex:\n",
    "        results[seas] = xc.indices.max_n_day_precipitation_amount(selseas(ds, seas),\n",
    "                                                                          window=ndays, **kwargs)/ndays\n",
    "        \n",
    "    res = xr.concat(results.values(), dim=seasIndex)\n",
    "    \n",
    "    return(res)"
   ]
  },
  {
   "cell_type": "code",
   "execution_count": 108,
   "metadata": {},
   "outputs": [
    {
     "data": {
      "text/plain": [
       "<xarray.DataArray (seas: 5, model: 21, time: 85)>\n",
       "array([[[43.588318, 44.217175, ..., 49.149834, 47.49013 ],\n",
       "        [44.976337, 45.562904, ..., 46.748516, 46.615376],\n",
       "        ...,\n",
       "        [44.47474 , 44.100544, ..., 47.138355, 44.508247],\n",
       "        [42.688557, 44.11266 , ..., 45.304035, 48.337486]],\n",
       "\n",
       "       [[34.598164, 33.686626, ..., 39.214836, 36.45156 ],\n",
       "        [35.441944, 34.12508 , ..., 37.619812, 38.08971 ],\n",
       "        ...,\n",
       "        [37.50062 , 35.367577, ..., 35.32083 , 33.450844],\n",
       "        [34.825733, 36.215553, ..., 33.666237, 33.66618 ]],\n",
       "\n",
       "       ...,\n",
       "\n",
       "       [[39.66693 , 44.217175, ..., 49.149834, 42.25725 ],\n",
       "        [44.94041 , 41.9988  , ..., 45.05722 , 45.39884 ],\n",
       "        ...,\n",
       "        [44.47474 , 42.30642 , ..., 44.103203, 43.69793 ],\n",
       "        [42.119606, 37.592243, ..., 44.117973, 43.747356]],\n",
       "\n",
       "       [[36.40211 , 37.005657, ..., 39.00875 , 37.49832 ],\n",
       "        [35.52758 , 33.794415, ..., 37.390892, 35.56303 ],\n",
       "        ...,\n",
       "        [33.45331 , 35.955772, ..., 33.464836, 34.028236],\n",
       "        [35.314495, 34.500328, ..., 38.29543 , 40.188465]]], dtype=float32)\n",
       "Coordinates:\n",
       "  * time      (time) datetime64[ns] 2006-01-01 2007-01-01 ... 2090-01-01\n",
       "    variable  <U6 'tasmax'\n",
       "  * model     (model) object 'ACCESS1-0' 'BCC-CSM1-1' ... 'NorESM1-M'\n",
       "  * seas      (seas) object 'Annual' 'DJF' 'MAM' 'JJAS' 'ON'"
      ]
     },
     "execution_count": 108,
     "metadata": {},
     "output_type": "execute_result"
    }
   ],
   "source": [
    "max_n_day_tas_mean(tas, 5)"
   ]
  },
  {
   "cell_type": "code",
   "execution_count": 114,
   "metadata": {},
   "outputs": [
    {
     "data": {
      "text/plain": [
       "<xarray.DataArray 'value' (model: 21, time: 31025)>\n",
       "array([[29.848328, 30.06076 , 29.960999, ..., 32.606537, 32.58072 , 32.876434],\n",
       "       [27.095459, 27.21576 , 27.544983, ..., 28.65979 , 29.22937 , 29.926056],\n",
       "       [23.39972 , 28.66919 , 28.083252, ..., 29.707153, 29.700867, 30.04953 ],\n",
       "       ...,\n",
       "       [27.874695, 28.551178, 28.186554, ..., 31.342346, 31.139526, 31.207886],\n",
       "       [29.284119, 29.195953, 28.045227, ..., 28.058105, 26.04306 , 27.286713],\n",
       "       [25.445953, 26.126465, 27.666534, ..., 30.492615, 30.723969, 31.201477]],\n",
       "      dtype=float32)\n",
       "Coordinates:\n",
       "  * time      (time) datetime64[ns] 2006-01-01T12:00:00 ... 2090-12-31T12:00:00\n",
       "    variable  <U6 'tasmax'\n",
       "  * model     (model) object 'ACCESS1-0' 'BCC-CSM1-1' ... 'NorESM1-M'\n",
       "Attributes:\n",
       "    units:    degC"
      ]
     },
     "execution_count": 114,
     "metadata": {},
     "output_type": "execute_result"
    }
   ],
   "source": [
    "tas"
   ]
  },
  {
   "cell_type": "markdown",
   "metadata": {},
   "source": [
    "#### max_cdd and max_cwd"
   ]
  },
  {
   "cell_type": "code",
   "execution_count": 97,
   "metadata": {},
   "outputs": [],
   "source": [
    "def max_consec_days(ds, metric, thresh='35 degC', **kwargs):\n",
    "    \n",
    "    thresh_val = get_thresh_val_from_str(thresh)\n",
    "    ds = change_units(ds)\n",
    "    \n",
    "    if metric == 'ccd':\n",
    "        func = xc.indices.maximum_consecutive_dry_days\n",
    "    elif metric == 'chd':\n",
    "        func = xc.indices.maximum_consecutive_wet_days\n",
    "        \n",
    "    \n",
    "    results = {}\n",
    "    \n",
    "    for seas in seasIndex:\n",
    "        results[seas] = func(selseas(ds, seas), thresh=f'{thresh_val} mm/day', **kwargs)\n",
    "        \n",
    "    res = xr.concat(results.values(), dim=seasIndex)\n",
    "    \n",
    "    return(res)"
   ]
  },
  {
   "cell_type": "code",
   "execution_count": 99,
   "metadata": {},
   "outputs": [
    {
     "data": {
      "text/plain": [
       "<xarray.DataArray 'value' (seas: 5, model: 21, time: 85)>\n",
       "array([[[35, 18, ..., 99, 51],\n",
       "        [22, 24, ..., 51, 61],\n",
       "        ...,\n",
       "        [41, 15, ..., 60, 63],\n",
       "        [36, 56, ..., 65, 83]],\n",
       "\n",
       "       [[ 0,  0, ...,  1,  0],\n",
       "        [ 0,  0, ...,  0,  0],\n",
       "        ...,\n",
       "        [ 0,  0, ...,  0,  0],\n",
       "        [ 0,  0, ...,  0,  0]],\n",
       "\n",
       "       ...,\n",
       "\n",
       "       [[ 2, 10, ..., 19,  7],\n",
       "        [14,  6, ..., 12,  6],\n",
       "        ...,\n",
       "        [10,  9, ...,  8,  8],\n",
       "        [ 5,  0, ..., 16, 15]],\n",
       "\n",
       "       [[ 0,  0, ...,  0,  0],\n",
       "        [ 0,  0, ...,  0,  0],\n",
       "        ...,\n",
       "        [ 0,  0, ...,  0,  0],\n",
       "        [ 0,  0, ...,  0,  3]]])\n",
       "Coordinates:\n",
       "  * time      (time) datetime64[ns] 2006-01-01 2007-01-01 ... 2090-01-01\n",
       "    variable  <U6 'tasmax'\n",
       "  * model     (model) object 'ACCESS1-0' 'BCC-CSM1-1' ... 'NorESM1-M'\n",
       "  * seas      (seas) object 'Annual' 'DJF' 'MAM' 'JJAS' 'ON'\n",
       "Attributes:\n",
       "    units:    days"
      ]
     },
     "execution_count": 99,
     "metadata": {},
     "output_type": "execute_result"
    }
   ],
   "source": [
    "max_consec_days(tas, 'chd', '40 degC')"
   ]
  },
  {
   "cell_type": "markdown",
   "metadata": {},
   "source": [
    "#### cdd and cwd"
   ]
  },
  {
   "cell_type": "code",
   "execution_count": 100,
   "metadata": {},
   "outputs": [],
   "source": [
    "def num_consec_days(ds, metric, thresh='35 degC', ndays=5):\n",
    "    thresh_val = get_thresh_val_from_str(thresh)\n",
    "    \n",
    "    if metric == 'ccd':\n",
    "        cond = ds < thresh_val\n",
    "    elif metric == 'chd':\n",
    "        cond = ds > thresh_val\n",
    "        \n",
    "    results = {}\n",
    "    \n",
    "    for seas in seasIndex:\n",
    "        results[seas] = (selseas(cond, seas)\n",
    "                         .groupby('time.year')\n",
    "                         .apply(xc.run_length.windowed_run_count, window=ndays)\n",
    "                        )\n",
    "        \n",
    "    \n",
    "    res = xr.concat(results.values(), dim=seasIndex)\n",
    "    \n",
    "    return(res)\n",
    "\n",
    "    "
   ]
  },
  {
   "cell_type": "code",
   "execution_count": 123,
   "metadata": {},
   "outputs": [
    {
     "data": {
      "text/plain": [
       "<xarray.DataArray 'value' (model: 21, year: 85)>\n",
       "array([[45, 48, 55, ..., 92, 99, 82],\n",
       "       [51, 60, 61, ..., 81, 68, 67],\n",
       "       [64, 55, 60, ..., 78, 77, 80],\n",
       "       ...,\n",
       "       [65, 56, 68, ..., 73, 92, 87],\n",
       "       [78, 42, 71, ..., 85, 60, 70],\n",
       "       [60, 56, 57, ..., 63, 65, 83]])\n",
       "Coordinates:\n",
       "    variable  <U6 'tasmax'\n",
       "  * model     (model) object 'ACCESS1-0' 'BCC-CSM1-1' ... 'NorESM1-M'\n",
       "  * year      (year) int64 2006 2007 2008 2009 2010 ... 2086 2087 2088 2089 2090\n",
       "    seas      <U6 'Annual'"
      ]
     },
     "execution_count": 123,
     "metadata": {},
     "output_type": "execute_result"
    }
   ],
   "source": [
    "num_consec_days(tas, 'chd', thresh='40 degC', ndays=5).sel(seas='Annual')"
   ]
  },
  {
   "cell_type": "code",
   "execution_count": 124,
   "metadata": {},
   "outputs": [
    {
     "data": {
      "text/plain": [
       "<xarray.DataArray 'value' (model: 21, time: 85)>\n",
       "array([[ 50,  57,  63, ...,  93, 106,  82],\n",
       "       [ 63,  65,  68, ...,  89,  76,  77],\n",
       "       [ 75,  58,  63, ...,  78,  85,  88],\n",
       "       ...,\n",
       "       [ 67,  56,  75, ...,  81,  93,  94],\n",
       "       [ 78,  60,  71, ...,  90,  66,  74],\n",
       "       [ 65,  57,  64, ...,  63,  67,  88]])\n",
       "Coordinates:\n",
       "  * time      (time) datetime64[ns] 2006-01-01 2007-01-01 ... 2090-01-01\n",
       "    variable  <U6 'tasmax'\n",
       "  * model     (model) object 'ACCESS1-0' 'BCC-CSM1-1' ... 'NorESM1-M'\n",
       "Attributes:\n",
       "    units:    days"
      ]
     },
     "execution_count": 124,
     "metadata": {},
     "output_type": "execute_result"
    }
   ],
   "source": [
    "xc.indices.warm_day_frequency(tas, '40 degC')"
   ]
  },
  {
   "cell_type": "code",
   "execution_count": 126,
   "metadata": {},
   "outputs": [
    {
     "data": {
      "text/plain": [
       "<xarray.DataArray 'value' (model: 21, year: 85)>\n",
       "array([[ 50,  57,  63, ...,  93, 106,  82],\n",
       "       [ 63,  65,  68, ...,  89,  76,  77],\n",
       "       [ 75,  58,  63, ...,  78,  85,  88],\n",
       "       ...,\n",
       "       [ 67,  56,  75, ...,  81,  93,  94],\n",
       "       [ 78,  60,  71, ...,  90,  66,  74],\n",
       "       [ 65,  57,  64, ...,  63,  67,  88]])\n",
       "Coordinates:\n",
       "    variable  <U6 'tasmax'\n",
       "  * model     (model) object 'ACCESS1-0' 'BCC-CSM1-1' ... 'NorESM1-M'\n",
       "  * year      (year) int64 2006 2007 2008 2009 2010 ... 2086 2087 2088 2089 2090\n",
       "    seas      <U6 'Annual'"
      ]
     },
     "execution_count": 126,
     "metadata": {},
     "output_type": "execute_result"
    }
   ],
   "source": [
    "days_above_thresh(tas, '40 degC').sel(seas='Annual')"
   ]
  },
  {
   "cell_type": "code",
   "execution_count": null,
   "metadata": {},
   "outputs": [],
   "source": []
  }
 ],
 "metadata": {
  "kernelspec": {
   "display_name": "Python [conda env:xclim_stable]",
   "language": "python",
   "name": "conda-env-xclim_stable-py"
  },
  "language_info": {
   "codemirror_mode": {
    "name": "ipython",
    "version": 3
   },
   "file_extension": ".py",
   "mimetype": "text/x-python",
   "name": "python",
   "nbconvert_exporter": "python",
   "pygments_lexer": "ipython3",
   "version": "3.7.3"
  },
  "toc": {
   "base_numbering": 1,
   "nav_menu": {},
   "number_sections": true,
   "sideBar": true,
   "skip_h1_title": false,
   "title_cell": "Table of Contents",
   "title_sidebar": "Contents",
   "toc_cell": false,
   "toc_position": {},
   "toc_section_display": true,
   "toc_window_display": false
  },
  "varInspector": {
   "cols": {
    "lenName": 16,
    "lenType": 16,
    "lenVar": 40
   },
   "kernels_config": {
    "python": {
     "delete_cmd_postfix": "",
     "delete_cmd_prefix": "del ",
     "library": "var_list.py",
     "varRefreshCmd": "print(var_dic_list())"
    },
    "r": {
     "delete_cmd_postfix": ") ",
     "delete_cmd_prefix": "rm(",
     "library": "var_list.r",
     "varRefreshCmd": "cat(var_dic_list()) "
    }
   },
   "types_to_exclude": [
    "module",
    "function",
    "builtin_function_or_method",
    "instance",
    "_Feature"
   ],
   "window_display": false
  }
 },
 "nbformat": 4,
 "nbformat_minor": 2
}
