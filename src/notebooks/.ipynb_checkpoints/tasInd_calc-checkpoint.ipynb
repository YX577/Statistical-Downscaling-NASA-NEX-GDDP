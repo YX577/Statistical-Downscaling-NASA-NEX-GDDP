{
 "cells": [
  {
   "cell_type": "code",
   "execution_count": 1,
   "metadata": {},
   "outputs": [],
   "source": [
    "import xclim as xc"
   ]
  },
  {
   "cell_type": "code",
   "execution_count": 2,
   "metadata": {},
   "outputs": [],
   "source": [
    "import _pickle as cpickle\n",
    "import sys"
   ]
  },
  {
   "cell_type": "code",
   "execution_count": 3,
   "metadata": {},
   "outputs": [],
   "source": [
    "import sys\n",
    "sys.path.append('../scripts/indices')"
   ]
  },
  {
   "cell_type": "code",
   "execution_count": 4,
   "metadata": {},
   "outputs": [],
   "source": [
    "import tasInd"
   ]
  },
  {
   "cell_type": "code",
   "execution_count": 5,
   "metadata": {},
   "outputs": [],
   "source": [
    "sys.path.append(\"/home/abhi/Documents/mygit/postBC_diagnostic/src/scripts\")\n",
    "from recipes import *"
   ]
  },
  {
   "cell_type": "code",
   "execution_count": 6,
   "metadata": {},
   "outputs": [],
   "source": [
    "with open(f'../../pickles/Amravati/Amravati_ALL21_historical_ds.pkl', 'rb') as f:\n",
    "    ds = cpickle.load(f)"
   ]
  },
  {
   "cell_type": "code",
   "execution_count": 7,
   "metadata": {},
   "outputs": [],
   "source": [
    "tasmax = ds.sel(variable='tasmax')['value'] - 273.15\n",
    "tasmax = tasmax.mean(dim='model')\n",
    "tasmax.attrs['units'] = 'degC'"
   ]
  },
  {
   "cell_type": "code",
   "execution_count": 8,
   "metadata": {},
   "outputs": [],
   "source": [
    "tasmin = ds.sel(variable='tasmin')['value'] - 273.15\n",
    "tasmin = tasmin.mean(dim='model')\n",
    "tasmin.attrs['units'] = 'degC'"
   ]
  },
  {
   "cell_type": "code",
   "execution_count": 15,
   "metadata": {},
   "outputs": [
    {
     "data": {
      "text/plain": [
       "<xarray.DataArray (seas: 5, time: 56)>\n",
       "array([[42.863693, 42.315739, 42.565735, ..., 43.128948, 43.325096, 43.603539],\n",
       "       [34.676041, 34.845139, 34.159832, ..., 34.878838, 35.256756, 34.720268],\n",
       "       [42.863693, 42.315739, 42.565735, ..., 43.128948, 43.325096, 43.603539],\n",
       "       [41.129471, 40.934334, 41.660824, ..., 41.832188, 41.660709, 42.921257],\n",
       "       [33.897938, 33.850128, 34.030743, ..., 34.330856, 34.403145, 34.006187]])\n",
       "Coordinates:\n",
       "  * time      (time) datetime64[ns] 1950-01-01 1951-01-01 ... 2005-01-01\n",
       "    variable  <U6 'tasmax'\n",
       "  * seas      (seas) object 'Annual' 'DJF' 'MAM' 'JJAS' 'ON'"
      ]
     },
     "execution_count": 15,
     "metadata": {},
     "output_type": "execute_result"
    }
   ],
   "source": [
    "tasInd.max_n_day_tas_mean(tasmax, 1)"
   ]
  }
 ],
 "metadata": {
  "kernelspec": {
   "display_name": "Python [conda env:xclim_stable]",
   "language": "python",
   "name": "conda-env-xclim_stable-py"
  },
  "language_info": {
   "codemirror_mode": {
    "name": "ipython",
    "version": 3
   },
   "file_extension": ".py",
   "mimetype": "text/x-python",
   "name": "python",
   "nbconvert_exporter": "python",
   "pygments_lexer": "ipython3",
   "version": "3.7.3"
  },
  "toc": {
   "base_numbering": 1,
   "nav_menu": {},
   "number_sections": true,
   "sideBar": true,
   "skip_h1_title": false,
   "title_cell": "Table of Contents",
   "title_sidebar": "Contents",
   "toc_cell": false,
   "toc_position": {},
   "toc_section_display": true,
   "toc_window_display": false
  },
  "varInspector": {
   "cols": {
    "lenName": 16,
    "lenType": 16,
    "lenVar": 40
   },
   "kernels_config": {
    "python": {
     "delete_cmd_postfix": "",
     "delete_cmd_prefix": "del ",
     "library": "var_list.py",
     "varRefreshCmd": "print(var_dic_list())"
    },
    "r": {
     "delete_cmd_postfix": ") ",
     "delete_cmd_prefix": "rm(",
     "library": "var_list.r",
     "varRefreshCmd": "cat(var_dic_list()) "
    }
   },
   "types_to_exclude": [
    "module",
    "function",
    "builtin_function_or_method",
    "instance",
    "_Feature"
   ],
   "window_display": false
  }
 },
 "nbformat": 4,
 "nbformat_minor": 2
}
