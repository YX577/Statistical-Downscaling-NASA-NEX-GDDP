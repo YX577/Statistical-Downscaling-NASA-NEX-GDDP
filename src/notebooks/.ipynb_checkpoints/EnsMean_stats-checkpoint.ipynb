{
 "cells": [
  {
   "cell_type": "code",
   "execution_count": 55,
   "metadata": {},
   "outputs": [],
   "source": [
    "import xarray as xr\n",
    "from cdo import Cdo\n",
    "cdo = Cdo()\n",
    "import os\n",
    "from pathlib import Path\n",
    "import sys\n",
    "import pandas as pd"
   ]
  },
  {
   "cell_type": "code",
   "execution_count": 26,
   "metadata": {},
   "outputs": [],
   "source": [
    "sys.path.append('../scripts')\n",
    "from helper_funcs import models, variables, scen\n"
   ]
  },
  {
   "cell_type": "code",
   "execution_count": 2,
   "metadata": {},
   "outputs": [],
   "source": [
    "# import common variables from a 'module'\n",
    "DATA_DIR = '/media/abhi/My_Passport/NEX-GDDP-NASA-OUTPUT/'\n",
    "\n",
    "data_dir = f'{DATA_DIR}/ALL21'"
   ]
  },
  {
   "cell_type": "code",
   "execution_count": 19,
   "metadata": {},
   "outputs": [],
   "source": [
    "# Extend/Change to incorporate separate year files\n",
    "# change abhi with mount_point or whoami\n",
    "def get_data_dir(model):\n",
    "    if model == 'EnsMean_ALL21':\n",
    "        dir_1, dir_2 = model.split('_')\n",
    "        \n",
    "    else:\n",
    "        dir_1, dir_2 = ['model_year_combined', model]\n",
    "        \n",
    "    data_dir = f'/media/abhi/My_Passport/NEX-GDDP-NASA-OUTPUT/{dir_1}/{dir_2}'\n",
    "        \n",
    "    return data_dir"
   ]
  },
  {
   "cell_type": "code",
   "execution_count": 36,
   "metadata": {},
   "outputs": [],
   "source": [
    "def get_year_str(scen):\n",
    "    if scen == 'historical':\n",
    "        return '1950-2005'\n",
    "    else:\n",
    "        return '2006-2099'"
   ]
  },
  {
   "cell_type": "code",
   "execution_count": 39,
   "metadata": {},
   "outputs": [],
   "source": [
    "def get_model_file(model, variable, scen):\n",
    "    model = model.split('_')[0] # Reminder: Make EnsMean naming convention as EnsMean_*\n",
    "    return f'{data_dir}/{variable}/{variable}_day_{model}_{scen}_{get_year_str(scen)}.nc'"
   ]
  },
  {
   "cell_type": "code",
   "execution_count": 41,
   "metadata": {},
   "outputs": [],
   "source": [
    "def get_var_ds(model, variable, scen, chunks={'time': 365}):\n",
    "    ds = xr.open_dataset(get_model_file(model, variable, scen_name),\n",
    "                                              chunks=chunks).rename({variable: 'var_name'})\n",
    "    \n",
    "    return ds"
   ]
  },
  {
   "cell_type": "markdown",
   "metadata": {},
   "source": [
    "# Lazy Load all three variables for each scenario"
   ]
  },
  {
   "cell_type": "code",
   "execution_count": 63,
   "metadata": {},
   "outputs": [],
   "source": [
    "variableIndex = pd.Index(variables, name='variable')"
   ]
  },
  {
   "cell_type": "code",
   "execution_count": 64,
   "metadata": {},
   "outputs": [
    {
     "data": {
      "text/plain": [
       "Index(['pr', 'tasmax', 'tasmin'], dtype='object', name='variable')"
      ]
     },
     "execution_count": 64,
     "metadata": {},
     "output_type": "execute_result"
    }
   ],
   "source": [
    "variableIndex"
   ]
  },
  {
   "cell_type": "code",
   "execution_count": 96,
   "metadata": {},
   "outputs": [],
   "source": [
    "ds = {}"
   ]
  },
  {
   "cell_type": "markdown",
   "metadata": {},
   "source": [
    "**TODO**: How to assign proper coords incase I forget to pass the dim argument to concat?\n"
   ]
  },
  {
   "cell_type": "code",
   "execution_count": 97,
   "metadata": {},
   "outputs": [
    {
     "name": "stdout",
     "output_type": "stream",
     "text": [
      "CPU times: user 1min 19s, sys: 18.3 s, total: 1min 37s\n",
      "Wall time: 1min 18s\n"
     ]
    }
   ],
   "source": [
    "%%time \n",
    "\n",
    "for scen_name in scen:\n",
    "    ds[scen_name] = xr.concat([get_var_ds('EnsMean_ALL21', variable, scen_name, chunks={'time':3650})\n",
    "                               for variable in variables],\n",
    "                             dim=variableIndex)"
   ]
  },
  {
   "cell_type": "code",
   "execution_count": 94,
   "metadata": {},
   "outputs": [],
   "source": [
    "from dask.distributed import Client\n",
    "client = Client(dashboard_address=':8786')"
   ]
  },
  {
   "cell_type": "code",
   "execution_count": 98,
   "metadata": {},
   "outputs": [
    {
     "name": "stdout",
     "output_type": "stream",
     "text": [
      "CPU times: user 1min 33s, sys: 16.2 s, total: 1min 49s\n",
      "Wall time: 8min 24s\n"
     ]
    }
   ],
   "source": [
    "%%time\n",
    "ds_mean = (ds['historical']\n",
    "           .groupby('variable')\n",
    "           .mean(dim='time')\n",
    "           .compute())"
   ]
  },
  {
   "cell_type": "code",
   "execution_count": null,
   "metadata": {},
   "outputs": [],
   "source": []
  }
 ],
 "metadata": {
  "kernelspec": {
   "display_name": "Python 3",
   "language": "python",
   "name": "python3"
  },
  "language_info": {
   "codemirror_mode": {
    "name": "ipython",
    "version": 3
   },
   "file_extension": ".py",
   "mimetype": "text/x-python",
   "name": "python",
   "nbconvert_exporter": "python",
   "pygments_lexer": "ipython3",
   "version": "3.6.7"
  },
  "toc": {
   "base_numbering": 1,
   "nav_menu": {},
   "number_sections": true,
   "sideBar": true,
   "skip_h1_title": false,
   "title_cell": "Table of Contents",
   "title_sidebar": "Contents",
   "toc_cell": false,
   "toc_position": {},
   "toc_section_display": true,
   "toc_window_display": false
  },
  "varInspector": {
   "cols": {
    "lenName": 16,
    "lenType": 16,
    "lenVar": 40
   },
   "kernels_config": {
    "python": {
     "delete_cmd_postfix": "",
     "delete_cmd_prefix": "del ",
     "library": "var_list.py",
     "varRefreshCmd": "print(var_dic_list())"
    },
    "r": {
     "delete_cmd_postfix": ") ",
     "delete_cmd_prefix": "rm(",
     "library": "var_list.r",
     "varRefreshCmd": "cat(var_dic_list()) "
    }
   },
   "types_to_exclude": [
    "module",
    "function",
    "builtin_function_or_method",
    "instance",
    "_Feature"
   ],
   "window_display": false
  }
 },
 "nbformat": 4,
 "nbformat_minor": 2
}
