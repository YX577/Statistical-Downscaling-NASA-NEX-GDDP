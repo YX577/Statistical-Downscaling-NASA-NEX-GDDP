{
 "cells": [
  {
   "cell_type": "code",
   "execution_count": 1,
   "metadata": {},
   "outputs": [],
   "source": [
    "import _pickle as cpickle"
   ]
  },
  {
   "cell_type": "code",
   "execution_count": 21,
   "metadata": {},
   "outputs": [],
   "source": [
    "import xarray as xr"
   ]
  },
  {
   "cell_type": "code",
   "execution_count": 22,
   "metadata": {},
   "outputs": [],
   "source": [
    "import pandas as pd"
   ]
  },
  {
   "cell_type": "code",
   "execution_count": 2,
   "metadata": {},
   "outputs": [],
   "source": [
    "import sys\n",
    "sys.path.append('../scripts/indices')"
   ]
  },
  {
   "cell_type": "code",
   "execution_count": 3,
   "metadata": {},
   "outputs": [],
   "source": [
    "sys.path.append(\"/home/abhi/Documents/mygit/postBC_diagnostic/src/scripts\")\n",
    "from recipes import *"
   ]
  },
  {
   "cell_type": "code",
   "execution_count": 4,
   "metadata": {},
   "outputs": [],
   "source": [
    "import prInd"
   ]
  },
  {
   "cell_type": "code",
   "execution_count": 5,
   "metadata": {},
   "outputs": [],
   "source": [
    "import numpy as np"
   ]
  },
  {
   "cell_type": "code",
   "execution_count": 6,
   "metadata": {},
   "outputs": [],
   "source": [
    "outdir = '/home/abhi/Documents/mygit/NEX-Analysis/pickles/Amravati/Indices'"
   ]
  },
  {
   "cell_type": "markdown",
   "metadata": {},
   "source": [
    "### Make a metric_ds_hist"
   ]
  },
  {
   "cell_type": "code",
   "execution_count": 78,
   "metadata": {},
   "outputs": [],
   "source": [
    "with open('../../pickles/Amravati/Amravati_ALL21_historical_ds.pkl', 'rb') as f:\n",
    "    ds = cpickle.load(f)"
   ]
  },
  {
   "cell_type": "code",
   "execution_count": 79,
   "metadata": {},
   "outputs": [],
   "source": [
    "pr = ds.sel(variable='pr')['value']*86400\n",
    "pr = pr.mean(dim='model')\n",
    "pr.attrs['units'] = 'mm/day'"
   ]
  },
  {
   "cell_type": "code",
   "execution_count": 80,
   "metadata": {},
   "outputs": [],
   "source": [
    "metric_dict = {}"
   ]
  },
  {
   "cell_type": "code",
   "execution_count": 81,
   "metadata": {},
   "outputs": [],
   "source": [
    "thresh_val, ndays = 1, 5\n",
    "thresh = f'{thresh_val} mm/day'\n",
    "pctl = 90\n",
    "base_years = range(1976, 2005 + 1)"
   ]
  },
  {
   "cell_type": "code",
   "execution_count": 82,
   "metadata": {},
   "outputs": [],
   "source": [
    "metric_dict[f'max_cdd_{thresh_val}_{ndays}'] = prInd.max_consec_days(pr, 'cdd', thresh)\n",
    "\n",
    "metric_dict[f'max_cwd_{thresh_val}_{ndays}'] = prInd.max_consec_days(pr, 'cwd', thresh)\n",
    "\n",
    "metric_dict[f'num_cdd_{thresh_val}_{ndays}'] = prInd.num_consec_days(pr, 'cdd', thresh, ndays)\n",
    "\n",
    "metric_dict[f'num_cwd_{thresh_val}_{ndays}'] = prInd.num_consec_days(pr, 'cwd', thresh, ndays)\n",
    "\n",
    "metric_dict[f'intensity_above_{thresh_val}mm'] = prInd.intensity_above_thresh(pr, thresh)\n",
    "\n",
    "metric_dict[f'days_above_{thresh_val}mm'] = prInd.days_above_thresh(pr, thresh)\n",
    "\n",
    "metric_dict[f'intensity_above_{pctl}p'] = prInd.intensity_above_pctl(pr, selyear(pr, base_years), pctl)\n",
    "\n",
    "metric_dict[f'days_above_{pctl}p'] = prInd.days_above_pctl(pr, selyear(pr, base_years), pctl)\n",
    "\n",
    "metric_dict[f'max_{ndays}_day_pr_amt'] = prInd.max_n_day_pr_amt(pr, ndays)"
   ]
  },
  {
   "cell_type": "code",
   "execution_count": 83,
   "metadata": {},
   "outputs": [],
   "source": [
    "metricIndex = pd.Index(metric_dict.keys(), name='metric')"
   ]
  },
  {
   "cell_type": "code",
   "execution_count": 84,
   "metadata": {},
   "outputs": [],
   "source": [
    "for k, v in metric_dict.items():\n",
    "    try:\n",
    "        metric_dict[k] = yearmean(v)\n",
    "    except KeyError:\n",
    "        pass"
   ]
  },
  {
   "cell_type": "code",
   "execution_count": 85,
   "metadata": {},
   "outputs": [],
   "source": [
    "metric_ds_hist = xr.concat(metric_dict.values(), dim=metricIndex)"
   ]
  },
  {
   "cell_type": "code",
   "execution_count": 86,
   "metadata": {},
   "outputs": [
    {
     "data": {
      "text/plain": [
       "<xarray.DataArray (metric: 9, seas: 5, year: 56)>\n",
       "array([[[ 94.      ,  38.      , ...,  78.      , 133.      ],\n",
       "        [ 89.      ,  45.      , ...,  90.      ,  90.      ],\n",
       "        ...,\n",
       "        [  2.      ,   1.      , ...,   3.      ,   3.      ],\n",
       "        [ 12.      ,  17.      , ...,   9.      ,  34.      ]],\n",
       "\n",
       "       [[ 99.      ,  92.      , ..., 107.      ,  95.      ],\n",
       "        [  1.      ,   1.      , ...,   0.      ,   0.      ],\n",
       "        ...,\n",
       "        [ 99.      ,  92.      , ..., 107.      ,  95.      ],\n",
       "        [  6.      ,   3.      , ...,   5.      ,   6.      ]],\n",
       "\n",
       "       ...,\n",
       "\n",
       "       [[ 42.      ,  38.      , ...,  20.      ,  39.      ],\n",
       "        [ 11.      ,  14.      , ...,   9.      ,  15.      ],\n",
       "        ...,\n",
       "        [ 10.      ,  13.      , ...,   3.      ,   8.      ],\n",
       "        [  9.      ,   4.      , ...,   9.      ,   7.      ]],\n",
       "\n",
       "       [[ 71.602401,  63.952243, ...,  42.995019,  63.635344],\n",
       "        [  1.690391,   2.119505, ...,   1.175667,   2.015381],\n",
       "        ...,\n",
       "        [ 71.602401,  63.952243, ...,  42.995019,  63.635344],\n",
       "        [ 22.812884,  20.966863, ...,  12.762878,  18.479975]]])\n",
       "Coordinates:\n",
       "    variable  <U2 'pr'\n",
       "  * seas      (seas) object 'Annual' 'DJF' 'MAM' 'JJAS' 'ON'\n",
       "  * year      (year) int64 1950 1951 1952 1953 1954 ... 2001 2002 2003 2004 2005\n",
       "  * metric    (metric) object 'max_cdd_1_5' 'max_cwd_1_5' ... 'max_5_day_pr_amt'"
      ]
     },
     "execution_count": 86,
     "metadata": {},
     "output_type": "execute_result"
    }
   ],
   "source": [
    "metric_ds_hist"
   ]
  },
  {
   "cell_type": "code",
   "execution_count": 128,
   "metadata": {},
   "outputs": [],
   "source": [
    "metric_df_hist = metric_ds_hist.to_dataframe('value').reset_index()\n",
    "metric_df_hist['scen'] = 'historical'"
   ]
  },
  {
   "cell_type": "markdown",
   "metadata": {},
   "source": [
    "### Make a metric_ds_fut"
   ]
  },
  {
   "cell_type": "code",
   "execution_count": 87,
   "metadata": {},
   "outputs": [],
   "source": [
    "with open(f'../../pickles/Amravati/Amravati_ALL21_historical_ds.pkl', 'rb') as f:\n",
    "    ds_hist = cpickle.load(f)"
   ]
  },
  {
   "cell_type": "code",
   "execution_count": 88,
   "metadata": {},
   "outputs": [],
   "source": [
    "pr_hist = ds_hist.sel(variable='pr')['value']*86400\n",
    "pr_hist = pr_hist.mean(dim='model')\n",
    "pr_hist.attrs['units'] = 'mm/day'"
   ]
  },
  {
   "cell_type": "code",
   "execution_count": 89,
   "metadata": {},
   "outputs": [],
   "source": [
    "fut_years = range(2006, 2090 + 1)\n",
    "scenIndex = pd.Index(['rcp45', 'rcp85'], name='scen')"
   ]
  },
  {
   "cell_type": "code",
   "execution_count": 90,
   "metadata": {},
   "outputs": [],
   "source": [
    "dsets = {}"
   ]
  },
  {
   "cell_type": "code",
   "execution_count": 91,
   "metadata": {},
   "outputs": [],
   "source": [
    "for scen in ['rcp45', 'rcp85']:\n",
    "    with open(f'../../pickles/Amravati/Amravati_ALL21_{scen}_ds.pkl', 'rb') as f:\n",
    "        dsets[scen] = selyear(cpickle.load(f), fut_years)"
   ]
  },
  {
   "cell_type": "code",
   "execution_count": 92,
   "metadata": {},
   "outputs": [],
   "source": [
    "def make_metric_ds_fut(scen):\n",
    "    ds = dsets[scen]\n",
    "    \n",
    "    pr = ds.sel(variable='pr')['value']*86400\n",
    "    pr = pr.mean(dim='model')\n",
    "    pr.attrs['units'] = 'mm/day'\n",
    "    \n",
    "    pr_hist = ds_hist.sel(variable='pr')['value']*86400\n",
    "    pr_hist = pr_hist.mean(dim='model')\n",
    "    pr_hist.attrs['units'] = 'mm/day'\n",
    "    \n",
    "    metric_dict = {}\n",
    "    \n",
    "    metric_dict[f'max_cdd_{thresh_val}_{ndays}'] = prInd.max_consec_days(pr, 'cdd', thresh)\n",
    "\n",
    "    metric_dict[f'max_cwd_{thresh_val}_{ndays}'] = prInd.max_consec_days(pr, 'cwd', thresh)\n",
    "\n",
    "    metric_dict[f'num_cdd_{thresh_val}_{ndays}'] = prInd.num_consec_days(pr, 'cdd', thresh, ndays)\n",
    "\n",
    "    metric_dict[f'num_cwd_{thresh_val}_{ndays}'] = prInd.num_consec_days(pr, 'cwd', thresh, ndays)\n",
    "\n",
    "    metric_dict[f'intensity_above_{thresh_val}mm'] = prInd.intensity_above_thresh(pr, thresh)\n",
    "\n",
    "    metric_dict[f'days_above_{thresh_val}mm'] = prInd.days_above_thresh(pr, thresh)\n",
    "\n",
    "    metric_dict[f'intensity_above_{pctl}p'] = prInd.intensity_above_pctl(pr, selyear(pr_hist, base_years), pctl)\n",
    "\n",
    "    metric_dict[f'days_above_{pctl}p'] = prInd.days_above_pctl(pr, selyear(pr_hist, base_years), pctl)\n",
    "\n",
    "    metric_dict[f'max_{ndays}_day_pr_amt'] = prInd.max_n_day_pr_amt(pr, ndays)\n",
    "    \n",
    "    for k, v in metric_dict.items():\n",
    "        try:\n",
    "            metric_dict[k] = yearmean(v)\n",
    "        except KeyError:\n",
    "            pass\n",
    "    \n",
    "    metricIndex = pd.Index(metric_dict.keys(), name='metric')\n",
    "    \n",
    "    metric_ds_fut = xr.concat(metric_dict.values(), dim=metricIndex)\n",
    "    \n",
    "    return(metric_ds_fut)\n",
    "    \n",
    "    \n",
    "    "
   ]
  },
  {
   "cell_type": "code",
   "execution_count": 93,
   "metadata": {},
   "outputs": [],
   "source": [
    "res = make_metric_ds_fut('rcp85').mean(dim='year') - metric_ds_hist.mean(dim='year')"
   ]
  },
  {
   "cell_type": "code",
   "execution_count": 98,
   "metadata": {},
   "outputs": [
    {
     "data": {
      "text/plain": [
       "<xarray.DataArray (metric: 9)>\n",
       "array([ 0.388866,  0.942227, -3.27605 ,  0.693277,  0.708904,  1.532143,\n",
       "        1.352258, 12.477101, 18.210427])\n",
       "Coordinates:\n",
       "    variable  <U2 'pr'\n",
       "    seas      <U6 'Annual'\n",
       "  * metric    (metric) object 'max_cdd_1_5' 'max_cwd_1_5' ... 'max_5_day_pr_amt'"
      ]
     },
     "execution_count": 98,
     "metadata": {},
     "output_type": "execute_result"
    }
   ],
   "source": [
    "res.sel(seas='Annual')"
   ]
  },
  {
   "cell_type": "code",
   "execution_count": 95,
   "metadata": {},
   "outputs": [
    {
     "data": {
      "text/plain": [
       "array(['max_cdd_1_5', 'max_cwd_1_5', 'num_cdd_1_5', 'num_cwd_1_5',\n",
       "       'intensity_above_1mm', 'days_above_1mm', 'intensity_above_90p',\n",
       "       'days_above_90p', 'max_5_day_pr_amt'], dtype=object)"
      ]
     },
     "execution_count": 95,
     "metadata": {},
     "output_type": "execute_result"
    }
   ],
   "source": [
    "res.coords['metric'].values"
   ]
  },
  {
   "cell_type": "code",
   "execution_count": 108,
   "metadata": {},
   "outputs": [
    {
     "data": {
      "text/plain": [
       "<xarray.DataArray ()>\n",
       "array(87.017857)\n",
       "Coordinates:\n",
       "    variable  <U2 'pr'\n",
       "    seas      <U3 'MAM'\n",
       "    metric    <U11 'num_cdd_1_5'"
      ]
     },
     "execution_count": 108,
     "metadata": {},
     "output_type": "execute_result"
    }
   ],
   "source": [
    "metric_ds_hist.mean(dim='year').sel(seas='MAM', metric='num_cdd_1_5')"
   ]
  },
  {
   "cell_type": "code",
   "execution_count": 109,
   "metadata": {},
   "outputs": [
    {
     "data": {
      "text/plain": [
       "<xarray.DataArray ()>\n",
       "array(87.188235)\n",
       "Coordinates:\n",
       "    variable  <U2 'pr'\n",
       "    seas      <U3 'MAM'\n",
       "    metric    <U11 'num_cdd_1_5'"
      ]
     },
     "execution_count": 109,
     "metadata": {},
     "output_type": "execute_result"
    }
   ],
   "source": [
    " make_metric_ds_fut('rcp85').mean(dim='year').sel(seas='MAM', metric='num_cdd_1_5')"
   ]
  },
  {
   "cell_type": "code",
   "execution_count": 116,
   "metadata": {},
   "outputs": [],
   "source": [
    "metric_ds_fut = xr.concat([make_metric_ds_fut(scen) for scen in scenIndex], dim=scenIndex)"
   ]
  },
  {
   "cell_type": "code",
   "execution_count": 120,
   "metadata": {},
   "outputs": [],
   "source": [
    "metric_df_fut = metric_ds_fut.to_dataframe('value').reset_index()"
   ]
  },
  {
   "cell_type": "code",
   "execution_count": 129,
   "metadata": {},
   "outputs": [],
   "source": [
    "metric_df = pd.concat([metric_df_hist, metric_df_fut], axis=0)"
   ]
  },
  {
   "cell_type": "code",
   "execution_count": 132,
   "metadata": {},
   "outputs": [],
   "source": [
    "def get_tslice(year):\n",
    "    if year in range(1976, 2006):\n",
    "        tslice = 'baseline'\n",
    "    elif year < 1976:\n",
    "        tslice = 'baseline-remain'\n",
    "    elif year in range(2006, 2021):\n",
    "        tslice = '2006-2020'\n",
    "    elif year in range(2021, 2051):\n",
    "        tslice = 'near'\n",
    "    elif year in range(2051, 2061):\n",
    "        tslice = '2051-2061'\n",
    "    elif year in range(2061, 2091):\n",
    "        tslice = 'far'\n",
    "    elif year > 2090:\n",
    "        tslice = 'end-of-century'\n",
    "        \n",
    "    return(tslice)"
   ]
  },
  {
   "cell_type": "code",
   "execution_count": 133,
   "metadata": {},
   "outputs": [],
   "source": [
    "metric_df['tslice'] = metric_df['year'].apply(get_tslice)"
   ]
  },
  {
   "cell_type": "code",
   "execution_count": 136,
   "metadata": {},
   "outputs": [],
   "source": [
    "metric_df.to_csv(f'{outdir}/metric_df.csv', index=False)"
   ]
  },
  {
   "cell_type": "code",
   "execution_count": null,
   "metadata": {},
   "outputs": [],
   "source": []
  }
 ],
 "metadata": {
  "kernelspec": {
   "display_name": "Python [conda env:xclim_stable]",
   "language": "python",
   "name": "conda-env-xclim_stable-py"
  },
  "language_info": {
   "codemirror_mode": {
    "name": "ipython",
    "version": 3
   },
   "file_extension": ".py",
   "mimetype": "text/x-python",
   "name": "python",
   "nbconvert_exporter": "python",
   "pygments_lexer": "ipython3",
   "version": "3.7.3"
  },
  "toc": {
   "base_numbering": 1,
   "nav_menu": {},
   "number_sections": true,
   "sideBar": true,
   "skip_h1_title": false,
   "title_cell": "Table of Contents",
   "title_sidebar": "Contents",
   "toc_cell": false,
   "toc_position": {},
   "toc_section_display": true,
   "toc_window_display": false
  },
  "varInspector": {
   "cols": {
    "lenName": 16,
    "lenType": 16,
    "lenVar": 40
   },
   "kernels_config": {
    "python": {
     "delete_cmd_postfix": "",
     "delete_cmd_prefix": "del ",
     "library": "var_list.py",
     "varRefreshCmd": "print(var_dic_list())"
    },
    "r": {
     "delete_cmd_postfix": ") ",
     "delete_cmd_prefix": "rm(",
     "library": "var_list.r",
     "varRefreshCmd": "cat(var_dic_list()) "
    }
   },
   "types_to_exclude": [
    "module",
    "function",
    "builtin_function_or_method",
    "instance",
    "_Feature"
   ],
   "window_display": false
  }
 },
 "nbformat": 4,
 "nbformat_minor": 2
}
