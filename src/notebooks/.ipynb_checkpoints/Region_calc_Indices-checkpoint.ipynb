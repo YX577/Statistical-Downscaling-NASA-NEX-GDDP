{
 "cells": [
  {
   "cell_type": "code",
   "execution_count": 13,
   "metadata": {},
   "outputs": [],
   "source": [
    "from cdo import Cdo\n",
    "cdo = Cdo()\n",
    "import glob"
   ]
  },
  {
   "cell_type": "code",
   "execution_count": 2,
   "metadata": {},
   "outputs": [],
   "source": [
    "import xarray as xr"
   ]
  },
  {
   "cell_type": "code",
   "execution_count": 3,
   "metadata": {},
   "outputs": [],
   "source": [
    "import sys\n",
    "sys.path.append('../scripts/')\n",
    "from Model import *"
   ]
  },
  {
   "cell_type": "code",
   "execution_count": 15,
   "metadata": {},
   "outputs": [],
   "source": [
    "def get_dirs(model):\n",
    "    if re.match(re.compile('EnsMean_.*'), model):                          \n",
    "        dir_1, dir_2 = model.split('_')\n",
    "    else:\n",
    "        dir_1, dir_2 = ['Models', model]\n",
    "\n",
    "    return [dir_1, dir_2]"
   ]
  },
  {
   "cell_type": "code",
   "execution_count": 16,
   "metadata": {},
   "outputs": [],
   "source": [
    "def get_data_dir(model, region='Amravati'):\n",
    "    dir_1, dir_2 = get_dirs(model)\n",
    "        \n",
    "    data_dir = f'/media/abhi/My_Passport/NEX-GDDP-NASA-OUTPUT/region-wise/{region}/merged/{dir_1}/{dir_2}'\n",
    "        \n",
    "    return data_dir"
   ]
  },
  {
   "cell_type": "code",
   "execution_count": 17,
   "metadata": {},
   "outputs": [],
   "source": [
    "def get_model_year_combined_file(model, variable, scen, region='Amravati'):\n",
    "\n",
    "    data_dir = get_data_dir(model, region=region)\n",
    "    return glob.glob(f'{data_dir}/{variable}/*{scen}*')[0]"
   ]
  },
  {
   "cell_type": "code",
   "execution_count": 18,
   "metadata": {},
   "outputs": [
    {
     "data": {
      "text/plain": [
       "'/media/abhi/My_Passport/NEX-GDDP-NASA-OUTPUT/region-wise/Amravati/merged/Models/ACCESS1-0/pr/pr_day_ACCESS1-0_historical_1950-2005.nc'"
      ]
     },
     "execution_count": 18,
     "metadata": {},
     "output_type": "execute_result"
    }
   ],
   "source": [
    "get_model_year_combined_file('ACCESS1-0', 'pr', 'historical')"
   ]
  },
  {
   "cell_type": "code",
   "execution_count": 19,
   "metadata": {},
   "outputs": [],
   "source": [
    "m = NEXModel(get_model_year_combined_file('ACCESS1-0', 'pr', 'historical'))"
   ]
  },
  {
   "cell_type": "code",
   "execution_count": 23,
   "metadata": {},
   "outputs": [],
   "source": [
    "m.outdir = '/media/abhi/My_Passport/NEX-GDDP-NASA-PROCESSED/region-wise/Amravati/merged'"
   ]
  },
  {
   "cell_type": "code",
   "execution_count": 26,
   "metadata": {},
   "outputs": [
    {
     "data": {
      "text/plain": [
       "'/media/abhi/My_Passport/NEX-GDDP-NASA-PROCESSED/region-wise/Amravati/merged/Models/ACCESS1-0/pr/ConsecDays/pr_cdd1mm5D-Annual_ACCESS1-0_historical_1976-2005.nc'"
      ]
     },
     "execution_count": 26,
     "metadata": {},
     "output_type": "execute_result"
    }
   ],
   "source": [
    "m.process('cdd', index_kwargs={'thresh':1, 'ndays':5}, year_str='1976-2005', outname='auto', outdir='auto')"
   ]
  }
 ],
 "metadata": {
  "kernelspec": {
   "display_name": "Python 3",
   "language": "python",
   "name": "python3"
  },
  "language_info": {
   "codemirror_mode": {
    "name": "ipython",
    "version": 3
   },
   "file_extension": ".py",
   "mimetype": "text/x-python",
   "name": "python",
   "nbconvert_exporter": "python",
   "pygments_lexer": "ipython3",
   "version": "3.6.7"
  },
  "toc": {
   "base_numbering": 1,
   "nav_menu": {},
   "number_sections": true,
   "sideBar": true,
   "skip_h1_title": false,
   "title_cell": "Table of Contents",
   "title_sidebar": "Contents",
   "toc_cell": false,
   "toc_position": {},
   "toc_section_display": true,
   "toc_window_display": false
  },
  "varInspector": {
   "cols": {
    "lenName": 16,
    "lenType": 16,
    "lenVar": 40
   },
   "kernels_config": {
    "python": {
     "delete_cmd_postfix": "",
     "delete_cmd_prefix": "del ",
     "library": "var_list.py",
     "varRefreshCmd": "print(var_dic_list())"
    },
    "r": {
     "delete_cmd_postfix": ") ",
     "delete_cmd_prefix": "rm(",
     "library": "var_list.r",
     "varRefreshCmd": "cat(var_dic_list()) "
    }
   },
   "types_to_exclude": [
    "module",
    "function",
    "builtin_function_or_method",
    "instance",
    "_Feature"
   ],
   "window_display": false
  }
 },
 "nbformat": 4,
 "nbformat_minor": 2
}
