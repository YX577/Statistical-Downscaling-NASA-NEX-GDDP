{
 "cells": [
  {
   "cell_type": "code",
   "execution_count": 1,
   "metadata": {},
   "outputs": [],
   "source": [
    "import pandas as pd\n",
    "import re"
   ]
  },
  {
   "cell_type": "code",
   "execution_count": 3,
   "metadata": {},
   "outputs": [],
   "source": [
    "ftp_links = pd.read_csv('../../data/ftp-links/nex-gddp-nccs-ftp-files.csv')"
   ]
  },
  {
   "cell_type": "code",
   "execution_count": 7,
   "metadata": {},
   "outputs": [
    {
     "data": {
      "text/plain": [
       "'ftp://ftp.nccs.nasa.gov/BCSD/historical/day/atmos/pr/r1i1p1/v1.0/pr_day_BCSD_historical_r1i1p1_ACCESS1-0_1950.nc'"
      ]
     },
     "execution_count": 7,
     "metadata": {},
     "output_type": "execute_result"
    }
   ],
   "source": [
    "ftp_links.iloc[0]['ftpurl']"
   ]
  },
  {
   "cell_type": "code",
   "execution_count": 31,
   "metadata": {},
   "outputs": [],
   "source": [
    "def get_details_from_url(url):\n",
    "    fname = url.split('/')[-1].replace('.nc', '')\n",
    "    variable, _, _, scen, _, model, year = fname.split('_')\n",
    "    \n",
    "    return [int(year), variable, model, scen]"
   ]
  },
  {
   "cell_type": "code",
   "execution_count": 22,
   "metadata": {},
   "outputs": [
    {
     "data": {
      "text/plain": [
       "('pr', 'ACCESS1-0', '1950')"
      ]
     },
     "execution_count": 22,
     "metadata": {},
     "output_type": "execute_result"
    }
   ],
   "source": [
    "get_details_from_url(ftp_links.iloc[0].ftpurl)"
   ]
  },
  {
   "cell_type": "code",
   "execution_count": 33,
   "metadata": {},
   "outputs": [],
   "source": [
    "details = pd.DataFrame(list(ftp_links.ftpurl.apply(get_details_from_url)),\n",
    "                       columns=['year', 'variable', 'model', 'scen'])\n"
   ]
  },
  {
   "cell_type": "code",
   "execution_count": 41,
   "metadata": {},
   "outputs": [],
   "source": [
    "ftp_links = pd.concat([details, ftp_links], axis=1, sort=False)"
   ]
  },
  {
   "cell_type": "code",
   "execution_count": 42,
   "metadata": {},
   "outputs": [
    {
     "data": {
      "text/html": [
       "<div>\n",
       "<style scoped>\n",
       "    .dataframe tbody tr th:only-of-type {\n",
       "        vertical-align: middle;\n",
       "    }\n",
       "\n",
       "    .dataframe tbody tr th {\n",
       "        vertical-align: top;\n",
       "    }\n",
       "\n",
       "    .dataframe thead th {\n",
       "        text-align: right;\n",
       "    }\n",
       "</style>\n",
       "<table border=\"1\" class=\"dataframe\">\n",
       "  <thead>\n",
       "    <tr style=\"text-align: right;\">\n",
       "      <th></th>\n",
       "      <th>year</th>\n",
       "      <th>variable</th>\n",
       "      <th>model</th>\n",
       "      <th>scen</th>\n",
       "      <th>ftpurl</th>\n",
       "    </tr>\n",
       "  </thead>\n",
       "  <tbody>\n",
       "    <tr>\n",
       "      <th>0</th>\n",
       "      <td>1950</td>\n",
       "      <td>pr</td>\n",
       "      <td>ACCESS1-0</td>\n",
       "      <td>historical</td>\n",
       "      <td>ftp://ftp.nccs.nasa.gov/BCSD/historical/day/at...</td>\n",
       "    </tr>\n",
       "    <tr>\n",
       "      <th>1</th>\n",
       "      <td>1951</td>\n",
       "      <td>pr</td>\n",
       "      <td>ACCESS1-0</td>\n",
       "      <td>historical</td>\n",
       "      <td>ftp://ftp.nccs.nasa.gov/BCSD/historical/day/at...</td>\n",
       "    </tr>\n",
       "    <tr>\n",
       "      <th>2</th>\n",
       "      <td>1952</td>\n",
       "      <td>pr</td>\n",
       "      <td>ACCESS1-0</td>\n",
       "      <td>historical</td>\n",
       "      <td>ftp://ftp.nccs.nasa.gov/BCSD/historical/day/at...</td>\n",
       "    </tr>\n",
       "    <tr>\n",
       "      <th>3</th>\n",
       "      <td>1953</td>\n",
       "      <td>pr</td>\n",
       "      <td>ACCESS1-0</td>\n",
       "      <td>historical</td>\n",
       "      <td>ftp://ftp.nccs.nasa.gov/BCSD/historical/day/at...</td>\n",
       "    </tr>\n",
       "    <tr>\n",
       "      <th>4</th>\n",
       "      <td>1954</td>\n",
       "      <td>pr</td>\n",
       "      <td>ACCESS1-0</td>\n",
       "      <td>historical</td>\n",
       "      <td>ftp://ftp.nccs.nasa.gov/BCSD/historical/day/at...</td>\n",
       "    </tr>\n",
       "  </tbody>\n",
       "</table>\n",
       "</div>"
      ],
      "text/plain": [
       "   year variable      model        scen  \\\n",
       "0  1950       pr  ACCESS1-0  historical   \n",
       "1  1951       pr  ACCESS1-0  historical   \n",
       "2  1952       pr  ACCESS1-0  historical   \n",
       "3  1953       pr  ACCESS1-0  historical   \n",
       "4  1954       pr  ACCESS1-0  historical   \n",
       "\n",
       "                                              ftpurl  \n",
       "0  ftp://ftp.nccs.nasa.gov/BCSD/historical/day/at...  \n",
       "1  ftp://ftp.nccs.nasa.gov/BCSD/historical/day/at...  \n",
       "2  ftp://ftp.nccs.nasa.gov/BCSD/historical/day/at...  \n",
       "3  ftp://ftp.nccs.nasa.gov/BCSD/historical/day/at...  \n",
       "4  ftp://ftp.nccs.nasa.gov/BCSD/historical/day/at...  "
      ]
     },
     "execution_count": 42,
     "metadata": {},
     "output_type": "execute_result"
    }
   ],
   "source": [
    "ftp_links.head()"
   ]
  },
  {
   "cell_type": "code",
   "execution_count": 59,
   "metadata": {},
   "outputs": [],
   "source": [
    "after_down = pd.read_csv('../../pickles/download_missing/last_down_status.csv')"
   ]
  },
  {
   "cell_type": "code",
   "execution_count": 60,
   "metadata": {},
   "outputs": [],
   "source": [
    "to_down = after_down.loc[after_down.status != 'OK']"
   ]
  },
  {
   "cell_type": "code",
   "execution_count": 63,
   "metadata": {},
   "outputs": [],
   "source": [
    "to_process = after_down.loc[after_down.status == 'OK']"
   ]
  },
  {
   "cell_type": "code",
   "execution_count": 66,
   "metadata": {},
   "outputs": [
    {
     "data": {
      "text/plain": [
       "model       variable  scen      \n",
       "ACCESS1-0   tasmax    rcp45         21\n",
       "                      rcp85         17\n",
       "BNU-ESM     tasmax    rcp45          2\n",
       "CESM1-BGC   tasmin    rcp85          3\n",
       "CNRM-CM5    tasmin    rcp85         20\n",
       "GFDL-CM3    pr        rcp45          4\n",
       "            tasmax    rcp45          4\n",
       "            tasmin    rcp45          4\n",
       "MPI-ESM-MR  pr        historical     1\n",
       "dtype: int64"
      ]
     },
     "execution_count": 66,
     "metadata": {},
     "output_type": "execute_result"
    }
   ],
   "source": [
    "after_down.groupby(['model', 'variable', 'scen']).size() == "
   ]
  },
  {
   "cell_type": "code",
   "execution_count": 47,
   "metadata": {},
   "outputs": [],
   "source": [
    "to_down = pd.merge(ftp_links, to_down)"
   ]
  },
  {
   "cell_type": "code",
   "execution_count": 56,
   "metadata": {},
   "outputs": [
    {
     "data": {
      "text/html": [
       "<div>\n",
       "<style scoped>\n",
       "    .dataframe tbody tr th:only-of-type {\n",
       "        vertical-align: middle;\n",
       "    }\n",
       "\n",
       "    .dataframe tbody tr th {\n",
       "        vertical-align: top;\n",
       "    }\n",
       "\n",
       "    .dataframe thead th {\n",
       "        text-align: right;\n",
       "    }\n",
       "</style>\n",
       "<table border=\"1\" class=\"dataframe\">\n",
       "  <thead>\n",
       "    <tr style=\"text-align: right;\">\n",
       "      <th></th>\n",
       "      <th>year</th>\n",
       "      <th>variable</th>\n",
       "      <th>model</th>\n",
       "      <th>scen</th>\n",
       "      <th>ftpurl</th>\n",
       "      <th>status</th>\n",
       "    </tr>\n",
       "  </thead>\n",
       "  <tbody>\n",
       "    <tr>\n",
       "      <th>0</th>\n",
       "      <td>2096</td>\n",
       "      <td>tasmax</td>\n",
       "      <td>GFDL-CM3</td>\n",
       "      <td>rcp45</td>\n",
       "      <td>ftp://ftp.nccs.nasa.gov/BCSD/rcp45/day/atmos/t...</td>\n",
       "      <td>missing</td>\n",
       "    </tr>\n",
       "    <tr>\n",
       "      <th>1</th>\n",
       "      <td>2097</td>\n",
       "      <td>tasmax</td>\n",
       "      <td>GFDL-CM3</td>\n",
       "      <td>rcp45</td>\n",
       "      <td>ftp://ftp.nccs.nasa.gov/BCSD/rcp45/day/atmos/t...</td>\n",
       "      <td>missing</td>\n",
       "    </tr>\n",
       "    <tr>\n",
       "      <th>2</th>\n",
       "      <td>2098</td>\n",
       "      <td>tasmax</td>\n",
       "      <td>GFDL-CM3</td>\n",
       "      <td>rcp45</td>\n",
       "      <td>ftp://ftp.nccs.nasa.gov/BCSD/rcp45/day/atmos/t...</td>\n",
       "      <td>missing</td>\n",
       "    </tr>\n",
       "    <tr>\n",
       "      <th>3</th>\n",
       "      <td>2099</td>\n",
       "      <td>tasmax</td>\n",
       "      <td>GFDL-CM3</td>\n",
       "      <td>rcp45</td>\n",
       "      <td>ftp://ftp.nccs.nasa.gov/BCSD/rcp45/day/atmos/t...</td>\n",
       "      <td>missing</td>\n",
       "    </tr>\n",
       "    <tr>\n",
       "      <th>4</th>\n",
       "      <td>2096</td>\n",
       "      <td>tasmin</td>\n",
       "      <td>GFDL-CM3</td>\n",
       "      <td>rcp45</td>\n",
       "      <td>ftp://ftp.nccs.nasa.gov/BCSD/rcp45/day/atmos/t...</td>\n",
       "      <td>missing</td>\n",
       "    </tr>\n",
       "    <tr>\n",
       "      <th>5</th>\n",
       "      <td>2097</td>\n",
       "      <td>tasmin</td>\n",
       "      <td>GFDL-CM3</td>\n",
       "      <td>rcp45</td>\n",
       "      <td>ftp://ftp.nccs.nasa.gov/BCSD/rcp45/day/atmos/t...</td>\n",
       "      <td>missing</td>\n",
       "    </tr>\n",
       "    <tr>\n",
       "      <th>6</th>\n",
       "      <td>2098</td>\n",
       "      <td>tasmin</td>\n",
       "      <td>GFDL-CM3</td>\n",
       "      <td>rcp45</td>\n",
       "      <td>ftp://ftp.nccs.nasa.gov/BCSD/rcp45/day/atmos/t...</td>\n",
       "      <td>missing</td>\n",
       "    </tr>\n",
       "    <tr>\n",
       "      <th>7</th>\n",
       "      <td>2099</td>\n",
       "      <td>tasmin</td>\n",
       "      <td>GFDL-CM3</td>\n",
       "      <td>rcp45</td>\n",
       "      <td>ftp://ftp.nccs.nasa.gov/BCSD/rcp45/day/atmos/t...</td>\n",
       "      <td>missing</td>\n",
       "    </tr>\n",
       "  </tbody>\n",
       "</table>\n",
       "</div>"
      ],
      "text/plain": [
       "   year variable     model   scen  \\\n",
       "0  2096   tasmax  GFDL-CM3  rcp45   \n",
       "1  2097   tasmax  GFDL-CM3  rcp45   \n",
       "2  2098   tasmax  GFDL-CM3  rcp45   \n",
       "3  2099   tasmax  GFDL-CM3  rcp45   \n",
       "4  2096   tasmin  GFDL-CM3  rcp45   \n",
       "5  2097   tasmin  GFDL-CM3  rcp45   \n",
       "6  2098   tasmin  GFDL-CM3  rcp45   \n",
       "7  2099   tasmin  GFDL-CM3  rcp45   \n",
       "\n",
       "                                              ftpurl   status  \n",
       "0  ftp://ftp.nccs.nasa.gov/BCSD/rcp45/day/atmos/t...  missing  \n",
       "1  ftp://ftp.nccs.nasa.gov/BCSD/rcp45/day/atmos/t...  missing  \n",
       "2  ftp://ftp.nccs.nasa.gov/BCSD/rcp45/day/atmos/t...  missing  \n",
       "3  ftp://ftp.nccs.nasa.gov/BCSD/rcp45/day/atmos/t...  missing  \n",
       "4  ftp://ftp.nccs.nasa.gov/BCSD/rcp45/day/atmos/t...  missing  \n",
       "5  ftp://ftp.nccs.nasa.gov/BCSD/rcp45/day/atmos/t...  missing  \n",
       "6  ftp://ftp.nccs.nasa.gov/BCSD/rcp45/day/atmos/t...  missing  \n",
       "7  ftp://ftp.nccs.nasa.gov/BCSD/rcp45/day/atmos/t...  missing  "
      ]
     },
     "execution_count": 56,
     "metadata": {},
     "output_type": "execute_result"
    }
   ],
   "source": [
    "to_down"
   ]
  },
  {
   "cell_type": "code",
   "execution_count": 55,
   "metadata": {},
   "outputs": [
    {
     "name": "stdout",
     "output_type": "stream",
     "text": [
      "--2019-04-29 14:48:24--  ftp://ftp.nccs.nasa.gov/BCSD/rcp45/day/atmos/tasmax/r1i1p1/v1.0/tasmax_day_BCSD_rcp45_r1i1p1_GFDL-CM3_2096.nc\n",
      "           => ‘/tmp/test_down.nc’\n",
      "Resolving ftp.nccs.nasa.gov (ftp.nccs.nasa.gov)... 169.154.146.106, 169.154.146.105, 2001:4d0:2418:2800::a99a:926a, ...\n",
      "Connecting to ftp.nccs.nasa.gov (ftp.nccs.nasa.gov)|169.154.146.106|:21... connected.\n",
      "Error in server response. Closing.\n",
      "Retrying.\n",
      "\n",
      "--2019-04-29 14:48:26--  ftp://ftp.nccs.nasa.gov/BCSD/rcp45/day/atmos/tasmax/r1i1p1/v1.0/tasmax_day_BCSD_rcp45_r1i1p1_GFDL-CM3_2096.nc\n",
      "  (try: 2) => ‘/tmp/test_down.nc’\n",
      "Connecting to ftp.nccs.nasa.gov (ftp.nccs.nasa.gov)|169.154.146.106|:21... connected.\n",
      "Error in server response. Closing.\n",
      "Retrying.\n",
      "\n",
      "--2019-04-29 14:48:28--  ftp://ftp.nccs.nasa.gov/BCSD/rcp45/day/atmos/tasmax/r1i1p1/v1.0/tasmax_day_BCSD_rcp45_r1i1p1_GFDL-CM3_2096.nc\n",
      "  (try: 3) => ‘/tmp/test_down.nc’\n",
      "Connecting to ftp.nccs.nasa.gov (ftp.nccs.nasa.gov)|169.154.146.106|:21... connected.\n",
      "^C\n"
     ]
    }
   ],
   "source": [
    "!wget 'ftp://ftp.nccs.nasa.gov/BCSD/rcp45/day/atmos/tasmax/r1i1p1/v1.0/tasmax_day_BCSD_rcp45_r1i1p1_GFDL-CM3_2096.nc' -O /tmp/test_down.nc"
   ]
  },
  {
   "cell_type": "code",
   "execution_count": 54,
   "metadata": {},
   "outputs": [
    {
     "name": "stdout",
     "output_type": "stream",
     "text": [
      "--2019-04-29 14:47:54--  ftp://ftp.nccs.nasa.gov/BCSD/historical/day/atmos/pr/r1i1p1/v1.0/pr_day_BCSD_historical_r1i1p1_ACCESS1-0_1950.nc\n",
      "           => ‘pr_day_BCSD_historical_r1i1p1_ACCESS1-0_1950.nc’\n",
      "Resolving ftp.nccs.nasa.gov (ftp.nccs.nasa.gov)... 169.154.146.105, 169.154.146.106, 2001:4d0:2418:2800::a99a:9269, ...\n",
      "Connecting to ftp.nccs.nasa.gov (ftp.nccs.nasa.gov)|169.154.146.105|:21... connected.\n",
      "Error in server response. Closing.\n",
      "Retrying.\n",
      "\n",
      "--2019-04-29 14:47:55--  ftp://ftp.nccs.nasa.gov/BCSD/historical/day/atmos/pr/r1i1p1/v1.0/pr_day_BCSD_historical_r1i1p1_ACCESS1-0_1950.nc\n",
      "  (try: 2) => ‘pr_day_BCSD_historical_r1i1p1_ACCESS1-0_1950.nc’\n",
      "Connecting to ftp.nccs.nasa.gov (ftp.nccs.nasa.gov)|169.154.146.105|:21... connected.\n",
      "Error in server response. Closing.\n",
      "Retrying.\n",
      "\n",
      "--2019-04-29 14:47:58--  ftp://ftp.nccs.nasa.gov/BCSD/historical/day/atmos/pr/r1i1p1/v1.0/pr_day_BCSD_historical_r1i1p1_ACCESS1-0_1950.nc\n",
      "  (try: 3) => ‘pr_day_BCSD_historical_r1i1p1_ACCESS1-0_1950.nc’\n",
      "Connecting to ftp.nccs.nasa.gov (ftp.nccs.nasa.gov)|169.154.146.105|:21... connected.\n",
      "Error in server response. Closing.\n",
      "Retrying.\n",
      "\n",
      "--2019-04-29 14:48:01--  ftp://ftp.nccs.nasa.gov/BCSD/historical/day/atmos/pr/r1i1p1/v1.0/pr_day_BCSD_historical_r1i1p1_ACCESS1-0_1950.nc\n",
      "  (try: 4) => ‘pr_day_BCSD_historical_r1i1p1_ACCESS1-0_1950.nc’\n",
      "Connecting to ftp.nccs.nasa.gov (ftp.nccs.nasa.gov)|169.154.146.105|:21... connected.\n",
      "Error in server response. Closing.\n",
      "Retrying.\n",
      "\n",
      "^C\n"
     ]
    }
   ],
   "source": [
    "!wget --user=NEXGDDP --password=\"\" ftp://ftp.nccs.nasa.gov/BCSD/historical/day/atmos/pr/r1i1p1/v1.0/pr_day_BCSD_historical_r1i1p1_ACCESS1-0_1950.nc"
   ]
  },
  {
   "cell_type": "code",
   "execution_count": null,
   "metadata": {},
   "outputs": [],
   "source": []
  }
 ],
 "metadata": {
  "kernelspec": {
   "display_name": "Python 3",
   "language": "python",
   "name": "python3"
  },
  "language_info": {
   "codemirror_mode": {
    "name": "ipython",
    "version": 3
   },
   "file_extension": ".py",
   "mimetype": "text/x-python",
   "name": "python",
   "nbconvert_exporter": "python",
   "pygments_lexer": "ipython3",
   "version": "3.6.7"
  },
  "toc": {
   "base_numbering": 1,
   "nav_menu": {},
   "number_sections": true,
   "sideBar": true,
   "skip_h1_title": false,
   "title_cell": "Table of Contents",
   "title_sidebar": "Contents",
   "toc_cell": false,
   "toc_position": {},
   "toc_section_display": true,
   "toc_window_display": false
  },
  "varInspector": {
   "cols": {
    "lenName": 16,
    "lenType": 16,
    "lenVar": 40
   },
   "kernels_config": {
    "python": {
     "delete_cmd_postfix": "",
     "delete_cmd_prefix": "del ",
     "library": "var_list.py",
     "varRefreshCmd": "print(var_dic_list())"
    },
    "r": {
     "delete_cmd_postfix": ") ",
     "delete_cmd_prefix": "rm(",
     "library": "var_list.r",
     "varRefreshCmd": "cat(var_dic_list()) "
    }
   },
   "types_to_exclude": [
    "module",
    "function",
    "builtin_function_or_method",
    "instance",
    "_Feature"
   ],
   "window_display": false
  }
 },
 "nbformat": 4,
 "nbformat_minor": 2
}
