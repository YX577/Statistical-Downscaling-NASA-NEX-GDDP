{
 "cells": [
  {
   "cell_type": "code",
   "execution_count": 14,
   "metadata": {},
   "outputs": [],
   "source": [
    "import xclim"
   ]
  },
  {
   "cell_type": "code",
   "execution_count": 15,
   "metadata": {},
   "outputs": [],
   "source": [
    "import xarray as xr"
   ]
  },
  {
   "cell_type": "code",
   "execution_count": 16,
   "metadata": {},
   "outputs": [],
   "source": [
    "import _pickle as cpickle"
   ]
  },
  {
   "cell_type": "code",
   "execution_count": 2,
   "metadata": {},
   "outputs": [],
   "source": [
    "with open('../../pickles/Amravati/Amravati_ALL21_historical_ds.pkl', 'rb') as f:\n",
    "    ds = cpickle.load(f)"
   ]
  },
  {
   "cell_type": "code",
   "execution_count": 30,
   "metadata": {},
   "outputs": [],
   "source": [
    "da = ds.sel(variable='pr').value*86400"
   ]
  },
  {
   "cell_type": "code",
   "execution_count": 67,
   "metadata": {},
   "outputs": [],
   "source": [
    "da.attrs['units'] = 'mm/day'"
   ]
  },
  {
   "cell_type": "code",
   "execution_count": 32,
   "metadata": {},
   "outputs": [
    {
     "data": {
      "text/plain": [
       "'mm/day'"
      ]
     },
     "execution_count": 32,
     "metadata": {},
     "output_type": "execute_result"
    }
   ],
   "source": [
    "da.attrs['units']"
   ]
  },
  {
   "cell_type": "code",
   "execution_count": 47,
   "metadata": {},
   "outputs": [
    {
     "data": {
      "text/plain": [
       "<xarray.DataArray (model: 21, time: 56)>\n",
       "array([[ 87.765469, 160.46068 , 183.51291 , ..., 134.596972, 120.147301,\n",
       "        169.842672],\n",
       "       [124.624417, 147.834073,  72.741529, ..., 225.987665,  79.948745,\n",
       "        131.25332 ],\n",
       "       [ 74.928147,  72.675498, 114.205633, ..., 160.578716,  56.238904,\n",
       "         60.268424],\n",
       "       ...,\n",
       "       [119.556843,  92.597935, 122.886598, ..., 136.762862,  94.606562,\n",
       "        215.562716],\n",
       "       [142.730558,  50.101799, 107.297469, ..., 364.907727,  73.276232,\n",
       "        169.783348],\n",
       "       [144.199459, 156.139472, 187.619285, ...,  69.90115 ,  98.937324,\n",
       "         76.914785]])\n",
       "Coordinates:\n",
       "  * time      (time) datetime64[ns] 1950-01-01 1951-01-01 ... 2005-01-01\n",
       "    variable  <U2 'pr'\n",
       "  * model     (model) object 'ACCESS1-0' 'BCC-CSM1-1' ... 'NorESM1-M'\n",
       "Attributes:\n",
       "    units:    mm"
      ]
     },
     "execution_count": 47,
     "metadata": {},
     "output_type": "execute_result"
    }
   ],
   "source": [
    "xclim.indices.(da, 3, freq='YS')"
   ]
  },
  {
   "cell_type": "code",
   "execution_count": 60,
   "metadata": {},
   "outputs": [
    {
     "data": {
      "text/plain": [
       "<xarray.DataArray 'value' (model: 21, month: 12)>\n",
       "array([[ 15,  15,  46, ..., 207,  43,   8],\n",
       "       [ 13,  18,  64, ..., 310,  73,  19],\n",
       "       [ 19,  12,  70, ..., 266,  70,  13],\n",
       "       ...,\n",
       "       [ 15,  16,  32, ..., 217,  41,  14],\n",
       "       [ 22,  15,  46, ..., 142,  34,  18],\n",
       "       [ 29,  25,  56, ..., 251,  60,   9]])\n",
       "Coordinates:\n",
       "    variable  <U2 'pr'\n",
       "  * model     (model) object 'ACCESS1-0' 'BCC-CSM1-1' ... 'NorESM1-M'\n",
       "  * month     (month) int64 1 2 3 4 5 6 7 8 9 10 11 12"
      ]
     },
     "execution_count": 60,
     "metadata": {},
     "output_type": "execute_result"
    }
   ],
   "source": [
    "(da > 1).groupby('time.month').sum(dim='time')"
   ]
  },
  {
   "cell_type": "code",
   "execution_count": 116,
   "metadata": {},
   "outputs": [],
   "source": [
    "res = xclim.indices.daily_pr_intensity(da, '0 mm/day', freq='M')"
   ]
  },
  {
   "cell_type": "code",
   "execution_count": 117,
   "metadata": {},
   "outputs": [
    {
     "data": {
      "text/plain": [
       "<xarray.DataArray 'value' (model: 21, time: 672)>\n",
       "array([[0.000000e+00, 0.000000e+00, 0.000000e+00, ..., 5.632679e+00,\n",
       "        0.000000e+00, 0.000000e+00],\n",
       "       [0.000000e+00, 0.000000e+00, 5.974734e-02, ..., 3.373606e+00,\n",
       "        5.233956e-03, 3.804669e-01],\n",
       "       [2.227796e-02, 3.490704e-02, 2.168851e-01, ..., 1.840583e+00,\n",
       "        3.013461e-02, 0.000000e+00],\n",
       "       ...,\n",
       "       [8.984550e-02, 0.000000e+00, 1.230923e-02, ..., 2.245732e-01,\n",
       "        1.209574e-01, 0.000000e+00],\n",
       "       [1.892326e-01, 0.000000e+00, 0.000000e+00, ..., 7.864155e-02,\n",
       "        0.000000e+00, 9.287597e-03],\n",
       "       [0.000000e+00, 2.160356e-02, 2.137847e-02, ..., 3.331960e-01,\n",
       "        0.000000e+00, 1.249975e-01]])\n",
       "Coordinates:\n",
       "  * time      (time) datetime64[ns] 1950-01-31 1950-02-28 ... 2005-12-31\n",
       "    variable  <U2 'pr'\n",
       "  * model     (model) object 'ACCESS1-0' 'BCC-CSM1-1' ... 'NorESM1-M'\n",
       "Attributes:\n",
       "    units:    mm/day"
      ]
     },
     "execution_count": 117,
     "metadata": {},
     "output_type": "execute_result"
    }
   ],
   "source": [
    "res"
   ]
  },
  {
   "cell_type": "code",
   "execution_count": 66,
   "metadata": {},
   "outputs": [],
   "source": [
    "da.attrs['units'] = 'degC'"
   ]
  },
  {
   "cell_type": "code",
   "execution_count": 36,
   "metadata": {},
   "outputs": [
    {
     "data": {
      "text/plain": [
       "<xarray.DataArray 'value' (model: 21, time: 56)>\n",
       "array([[151,  83,  78, ...,  85,  51,  84],\n",
       "       [ 95, 160,  69, ..., 155,  61,  56],\n",
       "       [ 87,  95,  78, ...,  84, 104,  95],\n",
       "       ...,\n",
       "       [168,  48,  79, ..., 121, 107, 160],\n",
       "       [144, 104, 159, ...,  54,  81,  82],\n",
       "       [155, 106, 109, ...,  78,  75,  93]])\n",
       "Coordinates:\n",
       "  * time      (time) datetime64[ns] 1950-01-01 1951-01-01 ... 2005-01-01\n",
       "    variable  <U2 'pr'\n",
       "  * model     (model) object 'ACCESS1-0' 'BCC-CSM1-1' ... 'NorESM1-M'\n",
       "Attributes:\n",
       "    units:    days"
      ]
     },
     "execution_count": 36,
     "metadata": {},
     "output_type": "execute_result"
    }
   ],
   "source": [
    "xclim.indices.maximum_consecutive_dry_days(da, )"
   ]
  },
  {
   "cell_type": "code",
   "execution_count": 83,
   "metadata": {},
   "outputs": [],
   "source": [
    "import sys\n",
    "sys.path.append('../scripts/')\n",
    "sys.path.append(\"/home/abhi/Documents/mygit/postBC_diagnostic/src/scripts\")\n",
    "from recipes import *"
   ]
  },
  {
   "cell_type": "code",
   "execution_count": 95,
   "metadata": {},
   "outputs": [
    {
     "data": {
      "text/plain": [
       "<xarray.DataArray 'value' (model: 21)>\n",
       "array([6832, 6832, 6832, 6832, 6832, 6832, 6832, 6832, 6832, 6832, 6832, 6832,\n",
       "       6832, 6832, 6832, 6832, 6832, 6832, 6832, 6832, 6832])\n",
       "Coordinates:\n",
       "    variable  <U2 'pr'\n",
       "  * model     (model) object 'ACCESS1-0' 'BCC-CSM1-1' ... 'NorESM1-M'"
      ]
     },
     "execution_count": 95,
     "metadata": {},
     "output_type": "execute_result"
    }
   ],
   "source": [
    "xclim.run_length.windowed_run_count(selseas(da > -1, 'JJAS'), window=5)"
   ]
  },
  {
   "cell_type": "code",
   "execution_count": 97,
   "metadata": {},
   "outputs": [
    {
     "data": {
      "text/plain": [
       "<xarray.DataArray 'value' (model: 21, month: 12)>\n",
       "array([[  6,   8,  13, ..., 115,  22,   5],\n",
       "       [  3,   3,  15, ..., 120,  24,   9],\n",
       "       [  4,   1,  18, ..., 118,  25,   5],\n",
       "       ...,\n",
       "       [  6,   4,  11, ..., 108,  16,   7],\n",
       "       [ 10,   5,  25, ...,  81,  18,   9],\n",
       "       [  8,   6,  22, ..., 120,  23,   1]])\n",
       "Coordinates:\n",
       "    variable  <U2 'pr'\n",
       "  * model     (model) object 'ACCESS1-0' 'BCC-CSM1-1' ... 'NorESM1-M'\n",
       "  * month     (month) int64 1 2 3 4 5 6 7 8 9 10 11 12\n",
       "Attributes:\n",
       "    units:    mm/day"
      ]
     },
     "execution_count": 97,
     "metadata": {},
     "output_type": "execute_result"
    }
   ],
   "source": [
    "da.groupby('time.month').apply(xclim.run_length.windowed_run_count, window=5)  "
   ]
  },
  {
   "cell_type": "code",
   "execution_count": null,
   "metadata": {},
   "outputs": [],
   "source": [
    "seasgrpr = xr.DataArray(pd.Series(xr_ds['time.month'].values)\n",
    "                            .apply(getseas), dims={'time':xr_ds['time']},\n",
    "                            name='seas')"
   ]
  },
  {
   "cell_type": "code",
   "execution_count": 105,
   "metadata": {},
   "outputs": [],
   "source": [
    "def get_seasgrpr(ds):\n",
    "    seasgrpr = xr.DataArray(pd.Series(ds['time.month'].values)\n",
    "                            .apply(getseas), dims={'time':ds['time']},\n",
    "                            name='seas')\n",
    "    \n",
    "    return(seasgrpr)"
   ]
  },
  {
   "cell_type": "code",
   "execution_count": 108,
   "metadata": {},
   "outputs": [
    {
     "ename": "TypeError",
     "evalue": "`group` must be an xarray.DataArray or the name of an xarray variable or dimension",
     "output_type": "error",
     "traceback": [
      "\u001b[0;31m---------------------------------------------------------------------------\u001b[0m",
      "\u001b[0;31mTypeError\u001b[0m                                 Traceback (most recent call last)",
      "\u001b[0;32m<ipython-input-108-760a459a6be0>\u001b[0m in \u001b[0;36m<module>\u001b[0;34m\u001b[0m\n\u001b[0;32m----> 1\u001b[0;31m \u001b[0;34m(\u001b[0m\u001b[0mda\u001b[0m\u001b[0;34m>\u001b[0m\u001b[0;36m1\u001b[0m\u001b[0;34m)\u001b[0m\u001b[0;34m.\u001b[0m\u001b[0mgroupby\u001b[0m\u001b[0;34m(\u001b[0m\u001b[0;34m[\u001b[0m\u001b[0mget_seasgrpr\u001b[0m\u001b[0;34m(\u001b[0m\u001b[0mda\u001b[0m\u001b[0;34m)\u001b[0m\u001b[0;34m,\u001b[0m\u001b[0;34m'time.year'\u001b[0m\u001b[0;34m]\u001b[0m\u001b[0;34m)\u001b[0m\u001b[0;34m.\u001b[0m\u001b[0mapply\u001b[0m\u001b[0;34m(\u001b[0m\u001b[0mxclim\u001b[0m\u001b[0;34m.\u001b[0m\u001b[0mrun_length\u001b[0m\u001b[0;34m.\u001b[0m\u001b[0mwindowed_run_count\u001b[0m\u001b[0;34m,\u001b[0m \u001b[0mwindow\u001b[0m\u001b[0;34m=\u001b[0m\u001b[0;36m5\u001b[0m\u001b[0;34m)\u001b[0m\u001b[0;34m\u001b[0m\u001b[0;34m\u001b[0m\u001b[0m\n\u001b[0m",
      "\u001b[0;32m~/miniconda3/envs/xclim_stable/lib/python3.7/site-packages/xarray/core/common.py\u001b[0m in \u001b[0;36mgroupby\u001b[0;34m(self, group, squeeze)\u001b[0m\n\u001b[1;32m    477\u001b[0m         \u001b[0mcore\u001b[0m\u001b[0;34m.\u001b[0m\u001b[0mgroupby\u001b[0m\u001b[0;34m.\u001b[0m\u001b[0mDatasetGroupBy\u001b[0m\u001b[0;34m\u001b[0m\u001b[0;34m\u001b[0m\u001b[0m\n\u001b[1;32m    478\u001b[0m         \"\"\"  # noqa\n\u001b[0;32m--> 479\u001b[0;31m         \u001b[0;32mreturn\u001b[0m \u001b[0mself\u001b[0m\u001b[0;34m.\u001b[0m\u001b[0m_groupby_cls\u001b[0m\u001b[0;34m(\u001b[0m\u001b[0mself\u001b[0m\u001b[0;34m,\u001b[0m \u001b[0mgroup\u001b[0m\u001b[0;34m,\u001b[0m \u001b[0msqueeze\u001b[0m\u001b[0;34m=\u001b[0m\u001b[0msqueeze\u001b[0m\u001b[0;34m)\u001b[0m\u001b[0;34m\u001b[0m\u001b[0;34m\u001b[0m\u001b[0m\n\u001b[0m\u001b[1;32m    480\u001b[0m \u001b[0;34m\u001b[0m\u001b[0m\n\u001b[1;32m    481\u001b[0m     def groupby_bins(self, group, bins, right=True, labels=None, precision=3,\n",
      "\u001b[0;32m~/miniconda3/envs/xclim_stable/lib/python3.7/site-packages/xarray/core/groupby.py\u001b[0m in \u001b[0;36m__init__\u001b[0;34m(self, obj, group, squeeze, grouper, bins, cut_kwargs)\u001b[0m\n\u001b[1;32m    227\u001b[0m         \u001b[0;32mif\u001b[0m \u001b[0;32mnot\u001b[0m \u001b[0misinstance\u001b[0m\u001b[0;34m(\u001b[0m\u001b[0mgroup\u001b[0m\u001b[0;34m,\u001b[0m \u001b[0;34m(\u001b[0m\u001b[0mDataArray\u001b[0m\u001b[0;34m,\u001b[0m \u001b[0mIndexVariable\u001b[0m\u001b[0;34m)\u001b[0m\u001b[0;34m)\u001b[0m\u001b[0;34m:\u001b[0m\u001b[0;34m\u001b[0m\u001b[0;34m\u001b[0m\u001b[0m\n\u001b[1;32m    228\u001b[0m             \u001b[0;32mif\u001b[0m \u001b[0;32mnot\u001b[0m \u001b[0mhashable\u001b[0m\u001b[0;34m(\u001b[0m\u001b[0mgroup\u001b[0m\u001b[0;34m)\u001b[0m\u001b[0;34m:\u001b[0m\u001b[0;34m\u001b[0m\u001b[0;34m\u001b[0m\u001b[0m\n\u001b[0;32m--> 229\u001b[0;31m                 raise TypeError('`group` must be an xarray.DataArray or the '\n\u001b[0m\u001b[1;32m    230\u001b[0m                                 'name of an xarray variable or dimension')\n\u001b[1;32m    231\u001b[0m             \u001b[0mgroup\u001b[0m \u001b[0;34m=\u001b[0m \u001b[0mobj\u001b[0m\u001b[0;34m[\u001b[0m\u001b[0mgroup\u001b[0m\u001b[0;34m]\u001b[0m\u001b[0;34m\u001b[0m\u001b[0;34m\u001b[0m\u001b[0m\n",
      "\u001b[0;31mTypeError\u001b[0m: `group` must be an xarray.DataArray or the name of an xarray variable or dimension"
     ]
    }
   ],
   "source": [
    "(da>1).groupby([get_seasgrpr(da),'time.year']).apply(xclim.run_length.windowed_run_count, window=5)  "
   ]
  },
  {
   "cell_type": "code",
   "execution_count": 122,
   "metadata": {},
   "outputs": [
    {
     "data": {
      "text/plain": [
       "<xarray.core.groupby.DataArrayGroupBy at 0x7fed7896f2b0>"
      ]
     },
     "execution_count": 122,
     "metadata": {},
     "output_type": "execute_result"
    }
   ],
   "source": [
    "da.groupby('time.month')"
   ]
  },
  {
   "cell_type": "code",
   "execution_count": 121,
   "metadata": {},
   "outputs": [
    {
     "data": {
      "text/plain": [
       "<xarray.DataArray 'value' (model: 21, time: 20440)>\n",
       "array([[0.     , 0.     , 0.     , ..., 0.     , 0.     , 0.     ],\n",
       "       [0.     , 0.     , 0.     , ..., 0.     , 0.     , 0.     ],\n",
       "       [0.     , 0.     , 0.     , ..., 0.     , 0.     , 0.     ],\n",
       "       ...,\n",
       "       [0.     , 2.78521, 0.     , ..., 0.     , 0.     , 0.     ],\n",
       "       [0.     , 0.     , 0.     , ..., 0.     , 0.     , 0.     ],\n",
       "       [0.     , 0.     , 0.     , ..., 0.     , 0.     , 0.     ]])\n",
       "Coordinates:\n",
       "  * time      (time) datetime64[ns] 1950-01-01T12:00:00 ... 2005-12-31T12:00:00\n",
       "    variable  <U2 'pr'\n",
       "  * model     (model) object 'ACCESS1-0' 'BCC-CSM1-1' ... 'NorESM1-M'\n",
       "Attributes:\n",
       "    units:    mm/day"
      ]
     },
     "execution_count": 121,
     "metadata": {},
     "output_type": "execute_result"
    }
   ],
   "source": [
    "da"
   ]
  }
 ],
 "metadata": {
  "kernelspec": {
   "display_name": "Python [conda env:xclim_stable] *",
   "language": "python",
   "name": "conda-env-xclim_stable-py"
  },
  "language_info": {
   "codemirror_mode": {
    "name": "ipython",
    "version": 3
   },
   "file_extension": ".py",
   "mimetype": "text/x-python",
   "name": "python",
   "nbconvert_exporter": "python",
   "pygments_lexer": "ipython3",
   "version": "3.7.3"
  }
 },
 "nbformat": 4,
 "nbformat_minor": 2
}
