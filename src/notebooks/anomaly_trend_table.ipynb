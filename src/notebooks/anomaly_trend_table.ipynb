{
 "cells": [
  {
   "cell_type": "code",
   "execution_count": 15,
   "metadata": {
    "ExecuteTime": {
     "end_time": "2020-08-30T14:01:53.491154Z",
     "start_time": "2020-08-30T14:01:53.486026Z"
    }
   },
   "outputs": [],
   "source": [
    "import pandas as pd\n",
    "import numpy as np"
   ]
  },
  {
   "cell_type": "code",
   "execution_count": 2,
   "metadata": {
    "ExecuteTime": {
     "end_time": "2020-08-30T14:01:37.406780Z",
     "start_time": "2020-08-30T14:01:37.394330Z"
    }
   },
   "outputs": [],
   "source": [
    "def sig_stars(pval):\n",
    "    if pval < 1e-2:\n",
    "        num_stars = 3\n",
    "    elif pval < 5e-2:\n",
    "        num_stars = 2\n",
    "    elif pval < 1e-1:\n",
    "        num_stars = 1\n",
    "    else:\n",
    "        num_stars = 0\n",
    "        \n",
    "    return(num_stars)"
   ]
  },
  {
   "cell_type": "code",
   "execution_count": 3,
   "metadata": {
    "ExecuteTime": {
     "end_time": "2020-08-30T14:01:37.819586Z",
     "start_time": "2020-08-30T14:01:37.801889Z"
    }
   },
   "outputs": [],
   "source": [
    "def make_est_str(r):\n",
    "    try:\n",
    "        est_str = str(round(r['estimate'], 3))\n",
    "        ci_range = round(r['ci_range'], 3)\n",
    "        \n",
    "        if not np.isnan(ci_range):\n",
    "            est_str = f'{est_str}(±{ci_range})'\n",
    "            est_str += sig_stars(r['p.value'])*'*'\n",
    "        \n",
    "    except Exception:\n",
    "        est_str = np.nan\n",
    "\n",
    "    return(est_str)\n",
    "    "
   ]
  },
  {
   "cell_type": "code",
   "execution_count": 4,
   "metadata": {
    "ExecuteTime": {
     "end_time": "2020-08-30T14:01:38.233117Z",
     "start_time": "2020-08-30T14:01:38.207365Z"
    }
   },
   "outputs": [],
   "source": [
    "df = pd.read_csv('../../pickles/Amravati/anomaly_trend/EnsMean_ALL21_anomaly_trend.csv')"
   ]
  },
  {
   "cell_type": "code",
   "execution_count": 5,
   "metadata": {
    "ExecuteTime": {
     "end_time": "2020-08-30T14:01:39.596064Z",
     "start_time": "2020-08-30T14:01:39.575704Z"
    }
   },
   "outputs": [],
   "source": [
    "df = df.drop(['model', 'term'], axis=1)"
   ]
  },
  {
   "cell_type": "code",
   "execution_count": 6,
   "metadata": {
    "ExecuteTime": {
     "end_time": "2020-08-30T14:01:40.076076Z",
     "start_time": "2020-08-30T14:01:40.045764Z"
    }
   },
   "outputs": [
    {
     "data": {
      "text/html": [
       "<div>\n",
       "<style scoped>\n",
       "    .dataframe tbody tr th:only-of-type {\n",
       "        vertical-align: middle;\n",
       "    }\n",
       "\n",
       "    .dataframe tbody tr th {\n",
       "        vertical-align: top;\n",
       "    }\n",
       "\n",
       "    .dataframe thead th {\n",
       "        text-align: right;\n",
       "    }\n",
       "</style>\n",
       "<table border=\"1\" class=\"dataframe\">\n",
       "  <thead>\n",
       "    <tr style=\"text-align: right;\">\n",
       "      <th></th>\n",
       "      <th>variable</th>\n",
       "      <th>seas</th>\n",
       "      <th>scen</th>\n",
       "      <th>tslice</th>\n",
       "      <th>estimate</th>\n",
       "      <th>std.error</th>\n",
       "      <th>p.value</th>\n",
       "    </tr>\n",
       "  </thead>\n",
       "  <tbody>\n",
       "    <tr>\n",
       "      <th>0</th>\n",
       "      <td>pr</td>\n",
       "      <td>Annual</td>\n",
       "      <td>historical</td>\n",
       "      <td>baseline</td>\n",
       "      <td>-0.006052</td>\n",
       "      <td>0.003950</td>\n",
       "      <td>0.136689</td>\n",
       "    </tr>\n",
       "    <tr>\n",
       "      <th>1</th>\n",
       "      <td>pr</td>\n",
       "      <td>Annual</td>\n",
       "      <td>rcp45</td>\n",
       "      <td>far</td>\n",
       "      <td>0.006842</td>\n",
       "      <td>0.003483</td>\n",
       "      <td>0.059496</td>\n",
       "    </tr>\n",
       "    <tr>\n",
       "      <th>2</th>\n",
       "      <td>pr</td>\n",
       "      <td>Annual</td>\n",
       "      <td>rcp45</td>\n",
       "      <td>near</td>\n",
       "      <td>0.007546</td>\n",
       "      <td>0.003893</td>\n",
       "      <td>0.062708</td>\n",
       "    </tr>\n",
       "    <tr>\n",
       "      <th>3</th>\n",
       "      <td>pr</td>\n",
       "      <td>Annual</td>\n",
       "      <td>rcp85</td>\n",
       "      <td>far</td>\n",
       "      <td>0.007752</td>\n",
       "      <td>0.005646</td>\n",
       "      <td>0.180626</td>\n",
       "    </tr>\n",
       "    <tr>\n",
       "      <th>4</th>\n",
       "      <td>pr</td>\n",
       "      <td>Annual</td>\n",
       "      <td>rcp85</td>\n",
       "      <td>near</td>\n",
       "      <td>0.009229</td>\n",
       "      <td>0.005062</td>\n",
       "      <td>0.078977</td>\n",
       "    </tr>\n",
       "  </tbody>\n",
       "</table>\n",
       "</div>"
      ],
      "text/plain": [
       "  variable    seas        scen    tslice  estimate  std.error   p.value\n",
       "0       pr  Annual  historical  baseline -0.006052   0.003950  0.136689\n",
       "1       pr  Annual       rcp45       far  0.006842   0.003483  0.059496\n",
       "2       pr  Annual       rcp45      near  0.007546   0.003893  0.062708\n",
       "3       pr  Annual       rcp85       far  0.007752   0.005646  0.180626\n",
       "4       pr  Annual       rcp85      near  0.009229   0.005062  0.078977"
      ]
     },
     "execution_count": 6,
     "metadata": {},
     "output_type": "execute_result"
    }
   ],
   "source": [
    "df.head()"
   ]
  },
  {
   "cell_type": "code",
   "execution_count": 7,
   "metadata": {
    "ExecuteTime": {
     "end_time": "2020-08-30T14:01:41.647801Z",
     "start_time": "2020-08-30T14:01:41.627624Z"
    }
   },
   "outputs": [
    {
     "data": {
      "text/plain": [
       "array(['baseline', 'far', 'near'], dtype=object)"
      ]
     },
     "execution_count": 7,
     "metadata": {},
     "output_type": "execute_result"
    }
   ],
   "source": [
    "df.tslice.unique()"
   ]
  },
  {
   "cell_type": "code",
   "execution_count": 8,
   "metadata": {
    "ExecuteTime": {
     "end_time": "2020-08-30T14:01:42.603202Z",
     "start_time": "2020-08-30T14:01:42.588456Z"
    }
   },
   "outputs": [],
   "source": [
    "from pandas.api.types import CategoricalDtype"
   ]
  },
  {
   "cell_type": "code",
   "execution_count": 9,
   "metadata": {
    "ExecuteTime": {
     "end_time": "2020-08-30T14:01:43.011698Z",
     "start_time": "2020-08-30T14:01:42.999812Z"
    }
   },
   "outputs": [],
   "source": [
    "tslice_cat = CategoricalDtype(['baseline', 'near', 'far'], ordered=True)"
   ]
  },
  {
   "cell_type": "code",
   "execution_count": 10,
   "metadata": {
    "ExecuteTime": {
     "end_time": "2020-08-30T14:01:43.615265Z",
     "start_time": "2020-08-30T14:01:43.596342Z"
    }
   },
   "outputs": [],
   "source": [
    "df['tslice'] = df.tslice.astype(tslice_cat)"
   ]
  },
  {
   "cell_type": "code",
   "execution_count": 11,
   "metadata": {
    "ExecuteTime": {
     "end_time": "2020-08-30T14:01:43.934156Z",
     "start_time": "2020-08-30T14:01:43.910161Z"
    }
   },
   "outputs": [],
   "source": [
    "df['ci_range'] = df['std.error']*1.96"
   ]
  },
  {
   "cell_type": "code",
   "execution_count": 16,
   "metadata": {
    "ExecuteTime": {
     "end_time": "2020-08-30T14:01:56.797906Z",
     "start_time": "2020-08-30T14:01:56.748316Z"
    }
   },
   "outputs": [],
   "source": [
    "df['est_str'] = df.apply(make_est_str, axis=1)"
   ]
  },
  {
   "cell_type": "code",
   "execution_count": 17,
   "metadata": {
    "ExecuteTime": {
     "end_time": "2020-08-30T14:01:58.428095Z",
     "start_time": "2020-08-30T14:01:58.424360Z"
    }
   },
   "outputs": [],
   "source": [
    "df2 = df.drop(['estimate', 'std.error', 'p.value', 'ci_range'], axis=1)"
   ]
  },
  {
   "cell_type": "code",
   "execution_count": 18,
   "metadata": {
    "ExecuteTime": {
     "end_time": "2020-08-30T14:01:58.859300Z",
     "start_time": "2020-08-30T14:01:58.831115Z"
    }
   },
   "outputs": [
    {
     "data": {
      "text/html": [
       "<div>\n",
       "<style scoped>\n",
       "    .dataframe tbody tr th:only-of-type {\n",
       "        vertical-align: middle;\n",
       "    }\n",
       "\n",
       "    .dataframe tbody tr th {\n",
       "        vertical-align: top;\n",
       "    }\n",
       "\n",
       "    .dataframe thead th {\n",
       "        text-align: right;\n",
       "    }\n",
       "</style>\n",
       "<table border=\"1\" class=\"dataframe\">\n",
       "  <thead>\n",
       "    <tr style=\"text-align: right;\">\n",
       "      <th></th>\n",
       "      <th>variable</th>\n",
       "      <th>seas</th>\n",
       "      <th>scen</th>\n",
       "      <th>tslice</th>\n",
       "      <th>est_str</th>\n",
       "    </tr>\n",
       "  </thead>\n",
       "  <tbody>\n",
       "    <tr>\n",
       "      <th>0</th>\n",
       "      <td>pr</td>\n",
       "      <td>Annual</td>\n",
       "      <td>historical</td>\n",
       "      <td>baseline</td>\n",
       "      <td>-0.006(±0.008)</td>\n",
       "    </tr>\n",
       "    <tr>\n",
       "      <th>1</th>\n",
       "      <td>pr</td>\n",
       "      <td>Annual</td>\n",
       "      <td>rcp45</td>\n",
       "      <td>far</td>\n",
       "      <td>0.007(±0.007)*</td>\n",
       "    </tr>\n",
       "    <tr>\n",
       "      <th>2</th>\n",
       "      <td>pr</td>\n",
       "      <td>Annual</td>\n",
       "      <td>rcp45</td>\n",
       "      <td>near</td>\n",
       "      <td>0.008(±0.008)*</td>\n",
       "    </tr>\n",
       "    <tr>\n",
       "      <th>3</th>\n",
       "      <td>pr</td>\n",
       "      <td>Annual</td>\n",
       "      <td>rcp85</td>\n",
       "      <td>far</td>\n",
       "      <td>0.008(±0.011)</td>\n",
       "    </tr>\n",
       "    <tr>\n",
       "      <th>4</th>\n",
       "      <td>pr</td>\n",
       "      <td>Annual</td>\n",
       "      <td>rcp85</td>\n",
       "      <td>near</td>\n",
       "      <td>0.009(±0.01)*</td>\n",
       "    </tr>\n",
       "  </tbody>\n",
       "</table>\n",
       "</div>"
      ],
      "text/plain": [
       "  variable    seas        scen    tslice         est_str\n",
       "0       pr  Annual  historical  baseline  -0.006(±0.008)\n",
       "1       pr  Annual       rcp45       far  0.007(±0.007)*\n",
       "2       pr  Annual       rcp45      near  0.008(±0.008)*\n",
       "3       pr  Annual       rcp85       far   0.008(±0.011)\n",
       "4       pr  Annual       rcp85      near   0.009(±0.01)*"
      ]
     },
     "execution_count": 18,
     "metadata": {},
     "output_type": "execute_result"
    }
   ],
   "source": [
    "df2.head()"
   ]
  },
  {
   "cell_type": "code",
   "execution_count": null,
   "metadata": {},
   "outputs": [],
   "source": []
  },
  {
   "cell_type": "code",
   "execution_count": 19,
   "metadata": {
    "ExecuteTime": {
     "end_time": "2020-08-30T14:01:59.341103Z",
     "start_time": "2020-08-30T14:01:59.268233Z"
    }
   },
   "outputs": [],
   "source": [
    "df_pivot = df2.pivot_table(index=['variable'], columns=['seas', 'scen', 'tslice'],\n",
    "                                              aggfunc=lambda x: x)"
   ]
  },
  {
   "cell_type": "code",
   "execution_count": 20,
   "metadata": {
    "ExecuteTime": {
     "end_time": "2020-08-30T14:02:00.950553Z",
     "start_time": "2020-08-30T14:02:00.938965Z"
    }
   },
   "outputs": [],
   "source": [
    "df_pivot.columns = df_pivot.columns.droplevel()"
   ]
  },
  {
   "cell_type": "code",
   "execution_count": 21,
   "metadata": {
    "ExecuteTime": {
     "end_time": "2020-08-30T14:02:19.333045Z",
     "start_time": "2020-08-30T14:02:19.271966Z"
    }
   },
   "outputs": [
    {
     "data": {
      "text/html": [
       "<div>\n",
       "<style scoped>\n",
       "    .dataframe tbody tr th:only-of-type {\n",
       "        vertical-align: middle;\n",
       "    }\n",
       "\n",
       "    .dataframe tbody tr th {\n",
       "        vertical-align: top;\n",
       "    }\n",
       "\n",
       "    .dataframe thead tr th {\n",
       "        text-align: left;\n",
       "    }\n",
       "\n",
       "    .dataframe thead tr:last-of-type th {\n",
       "        text-align: right;\n",
       "    }\n",
       "</style>\n",
       "<table border=\"1\" class=\"dataframe\">\n",
       "  <thead>\n",
       "    <tr>\n",
       "      <th>seas</th>\n",
       "      <th colspan=\"5\" halign=\"left\">Annual</th>\n",
       "      <th colspan=\"5\" halign=\"left\">DJF</th>\n",
       "      <th>...</th>\n",
       "      <th colspan=\"5\" halign=\"left\">MAM</th>\n",
       "      <th colspan=\"5\" halign=\"left\">ON</th>\n",
       "    </tr>\n",
       "    <tr>\n",
       "      <th>scen</th>\n",
       "      <th>historical</th>\n",
       "      <th colspan=\"2\" halign=\"left\">rcp45</th>\n",
       "      <th colspan=\"2\" halign=\"left\">rcp85</th>\n",
       "      <th>historical</th>\n",
       "      <th colspan=\"2\" halign=\"left\">rcp45</th>\n",
       "      <th colspan=\"2\" halign=\"left\">rcp85</th>\n",
       "      <th>...</th>\n",
       "      <th>historical</th>\n",
       "      <th colspan=\"2\" halign=\"left\">rcp45</th>\n",
       "      <th colspan=\"2\" halign=\"left\">rcp85</th>\n",
       "      <th>historical</th>\n",
       "      <th colspan=\"2\" halign=\"left\">rcp45</th>\n",
       "      <th colspan=\"2\" halign=\"left\">rcp85</th>\n",
       "    </tr>\n",
       "    <tr>\n",
       "      <th>tslice</th>\n",
       "      <th>baseline</th>\n",
       "      <th>near</th>\n",
       "      <th>far</th>\n",
       "      <th>near</th>\n",
       "      <th>far</th>\n",
       "      <th>baseline</th>\n",
       "      <th>near</th>\n",
       "      <th>far</th>\n",
       "      <th>near</th>\n",
       "      <th>far</th>\n",
       "      <th>...</th>\n",
       "      <th>baseline</th>\n",
       "      <th>near</th>\n",
       "      <th>far</th>\n",
       "      <th>near</th>\n",
       "      <th>far</th>\n",
       "      <th>baseline</th>\n",
       "      <th>near</th>\n",
       "      <th>far</th>\n",
       "      <th>near</th>\n",
       "      <th>far</th>\n",
       "    </tr>\n",
       "    <tr>\n",
       "      <th>variable</th>\n",
       "      <th></th>\n",
       "      <th></th>\n",
       "      <th></th>\n",
       "      <th></th>\n",
       "      <th></th>\n",
       "      <th></th>\n",
       "      <th></th>\n",
       "      <th></th>\n",
       "      <th></th>\n",
       "      <th></th>\n",
       "      <th></th>\n",
       "      <th></th>\n",
       "      <th></th>\n",
       "      <th></th>\n",
       "      <th></th>\n",
       "      <th></th>\n",
       "      <th></th>\n",
       "      <th></th>\n",
       "      <th></th>\n",
       "      <th></th>\n",
       "      <th></th>\n",
       "    </tr>\n",
       "  </thead>\n",
       "  <tbody>\n",
       "    <tr>\n",
       "      <th>pr</th>\n",
       "      <td>-0.006(±0.008)</td>\n",
       "      <td>0.008(±0.008)*</td>\n",
       "      <td>0.007(±0.007)*</td>\n",
       "      <td>0.009(±0.01)*</td>\n",
       "      <td>0.008(±0.011)</td>\n",
       "      <td>-0.0(±0.001)</td>\n",
       "      <td>0.0(±0.001)</td>\n",
       "      <td>0.0(±0.001)</td>\n",
       "      <td>-0.001(±0.002)</td>\n",
       "      <td>0.0(±0.001)</td>\n",
       "      <td>...</td>\n",
       "      <td>-0.0(±0.002)</td>\n",
       "      <td>0.001(±0.002)</td>\n",
       "      <td>-0.0(±0.002)</td>\n",
       "      <td>0.0(±0.003)</td>\n",
       "      <td>0.0(±0.002)</td>\n",
       "      <td>-0.0(±0.009)</td>\n",
       "      <td>0.003(±0.01)</td>\n",
       "      <td>0.018(±0.01)***</td>\n",
       "      <td>0.017(±0.008)***</td>\n",
       "      <td>0.008(±0.013)</td>\n",
       "    </tr>\n",
       "    <tr>\n",
       "      <th>tas</th>\n",
       "      <td>0.017(±0.005)***</td>\n",
       "      <td>0.03(±0.005)***</td>\n",
       "      <td>0.005(±0.003)***</td>\n",
       "      <td>0.042(±0.004)***</td>\n",
       "      <td>0.056(±0.004)***</td>\n",
       "      <td>0.015(±0.006)***</td>\n",
       "      <td>0.036(±0.006)***</td>\n",
       "      <td>0.006(±0.006)*</td>\n",
       "      <td>0.051(±0.005)***</td>\n",
       "      <td>0.062(±0.006)***</td>\n",
       "      <td>...</td>\n",
       "      <td>0.02(±0.009)***</td>\n",
       "      <td>0.035(±0.005)***</td>\n",
       "      <td>0.006(±0.006)*</td>\n",
       "      <td>0.046(±0.006)***</td>\n",
       "      <td>0.061(±0.005)***</td>\n",
       "      <td>0.02(±0.008)***</td>\n",
       "      <td>0.026(±0.006)***</td>\n",
       "      <td>-0.001(±0.006)</td>\n",
       "      <td>0.037(±0.007)***</td>\n",
       "      <td>0.059(±0.008)***</td>\n",
       "    </tr>\n",
       "    <tr>\n",
       "      <th>tasmax</th>\n",
       "      <td>0.016(±0.005)***</td>\n",
       "      <td>0.029(±0.006)***</td>\n",
       "      <td>0.002(±0.004)</td>\n",
       "      <td>0.039(±0.005)***</td>\n",
       "      <td>0.054(±0.005)***</td>\n",
       "      <td>0.013(±0.007)***</td>\n",
       "      <td>0.036(±0.007)***</td>\n",
       "      <td>0.0(±0.006)</td>\n",
       "      <td>0.049(±0.007)***</td>\n",
       "      <td>0.06(±0.007)***</td>\n",
       "      <td>...</td>\n",
       "      <td>0.021(±0.01)***</td>\n",
       "      <td>0.035(±0.006)***</td>\n",
       "      <td>0.005(±0.006)</td>\n",
       "      <td>0.042(±0.007)***</td>\n",
       "      <td>0.057(±0.006)***</td>\n",
       "      <td>0.014(±0.012)**</td>\n",
       "      <td>0.022(±0.01)***</td>\n",
       "      <td>-0.005(±0.008)</td>\n",
       "      <td>0.028(±0.009)***</td>\n",
       "      <td>0.055(±0.01)***</td>\n",
       "    </tr>\n",
       "    <tr>\n",
       "      <th>tasmin</th>\n",
       "      <td>0.019(±0.005)***</td>\n",
       "      <td>0.031(±0.004)***</td>\n",
       "      <td>0.007(±0.003)***</td>\n",
       "      <td>0.046(±0.004)***</td>\n",
       "      <td>0.059(±0.004)***</td>\n",
       "      <td>0.018(±0.007)***</td>\n",
       "      <td>0.037(±0.008)***</td>\n",
       "      <td>0.011(±0.007)***</td>\n",
       "      <td>0.052(±0.006)***</td>\n",
       "      <td>0.064(±0.007)***</td>\n",
       "      <td>...</td>\n",
       "      <td>0.018(±0.009)***</td>\n",
       "      <td>0.035(±0.005)***</td>\n",
       "      <td>0.007(±0.006)**</td>\n",
       "      <td>0.05(±0.005)***</td>\n",
       "      <td>0.065(±0.006)***</td>\n",
       "      <td>0.026(±0.009)***</td>\n",
       "      <td>0.03(±0.007)***</td>\n",
       "      <td>0.004(±0.007)</td>\n",
       "      <td>0.045(±0.008)***</td>\n",
       "      <td>0.063(±0.007)***</td>\n",
       "    </tr>\n",
       "  </tbody>\n",
       "</table>\n",
       "<p>4 rows × 25 columns</p>\n",
       "</div>"
      ],
      "text/plain": [
       "seas                Annual                                      \\\n",
       "scen            historical             rcp45                     \n",
       "tslice            baseline              near               far   \n",
       "variable                                                         \n",
       "pr          -0.006(±0.008)    0.008(±0.008)*    0.007(±0.007)*   \n",
       "tas       0.017(±0.005)***   0.03(±0.005)***  0.005(±0.003)***   \n",
       "tasmax    0.016(±0.005)***  0.029(±0.006)***     0.002(±0.004)   \n",
       "tasmin    0.019(±0.005)***  0.031(±0.004)***  0.007(±0.003)***   \n",
       "\n",
       "seas                                                       DJF  \\\n",
       "scen                 rcp85                          historical   \n",
       "tslice                near               far          baseline   \n",
       "variable                                                         \n",
       "pr           0.009(±0.01)*     0.008(±0.011)      -0.0(±0.001)   \n",
       "tas       0.042(±0.004)***  0.056(±0.004)***  0.015(±0.006)***   \n",
       "tasmax    0.039(±0.005)***  0.054(±0.005)***  0.013(±0.007)***   \n",
       "tasmin    0.046(±0.004)***  0.059(±0.004)***  0.018(±0.007)***   \n",
       "\n",
       "seas                                                            \\\n",
       "scen                 rcp45                               rcp85   \n",
       "tslice                near               far              near   \n",
       "variable                                                         \n",
       "pr             0.0(±0.001)       0.0(±0.001)    -0.001(±0.002)   \n",
       "tas       0.036(±0.006)***    0.006(±0.006)*  0.051(±0.005)***   \n",
       "tasmax    0.036(±0.007)***       0.0(±0.006)  0.049(±0.007)***   \n",
       "tasmin    0.037(±0.008)***  0.011(±0.007)***  0.052(±0.006)***   \n",
       "\n",
       "seas                        ...               MAM                    \\\n",
       "scen                        ...        historical             rcp45   \n",
       "tslice                 far  ...          baseline              near   \n",
       "variable                    ...                                       \n",
       "pr             0.0(±0.001)  ...      -0.0(±0.002)     0.001(±0.002)   \n",
       "tas       0.062(±0.006)***  ...   0.02(±0.009)***  0.035(±0.005)***   \n",
       "tasmax     0.06(±0.007)***  ...   0.021(±0.01)***  0.035(±0.006)***   \n",
       "tasmin    0.064(±0.007)***  ...  0.018(±0.009)***  0.035(±0.005)***   \n",
       "\n",
       "seas                                                           \\\n",
       "scen                                  rcp85                     \n",
       "tslice                far              near               far   \n",
       "variable                                                        \n",
       "pr           -0.0(±0.002)       0.0(±0.003)       0.0(±0.002)   \n",
       "tas        0.006(±0.006)*  0.046(±0.006)***  0.061(±0.005)***   \n",
       "tasmax      0.005(±0.006)  0.042(±0.007)***  0.057(±0.006)***   \n",
       "tasmin    0.007(±0.006)**   0.05(±0.005)***  0.065(±0.006)***   \n",
       "\n",
       "seas                    ON                                     \\\n",
       "scen            historical             rcp45                    \n",
       "tslice            baseline              near              far   \n",
       "variable                                                        \n",
       "pr            -0.0(±0.009)      0.003(±0.01)  0.018(±0.01)***   \n",
       "tas        0.02(±0.008)***  0.026(±0.006)***   -0.001(±0.006)   \n",
       "tasmax     0.014(±0.012)**   0.022(±0.01)***   -0.005(±0.008)   \n",
       "tasmin    0.026(±0.009)***   0.03(±0.007)***    0.004(±0.007)   \n",
       "\n",
       "seas                                          \n",
       "scen                 rcp85                    \n",
       "tslice                near               far  \n",
       "variable                                      \n",
       "pr        0.017(±0.008)***     0.008(±0.013)  \n",
       "tas       0.037(±0.007)***  0.059(±0.008)***  \n",
       "tasmax    0.028(±0.009)***   0.055(±0.01)***  \n",
       "tasmin    0.045(±0.008)***  0.063(±0.007)***  \n",
       "\n",
       "[4 rows x 25 columns]"
      ]
     },
     "execution_count": 21,
     "metadata": {},
     "output_type": "execute_result"
    }
   ],
   "source": [
    "df_pivot"
   ]
  },
  {
   "cell_type": "code",
   "execution_count": 26,
   "metadata": {
    "ExecuteTime": {
     "end_time": "2020-08-30T14:05:36.189504Z",
     "start_time": "2020-08-30T14:05:33.609392Z"
    }
   },
   "outputs": [
    {
     "name": "stdout",
     "output_type": "stream",
     "text": [
      "Collecting tabulate\n",
      "  Downloading tabulate-0.8.7-py3-none-any.whl (24 kB)\n",
      "Installing collected packages: tabulate\n",
      "Successfully installed tabulate-0.8.7\n"
     ]
    }
   ],
   "source": [
    "!pip install tabulate"
   ]
  },
  {
   "cell_type": "markdown",
   "metadata": {},
   "source": [
    "| variable   | ('historical', 'baseline')   | ('rcp45', 'near')   | ('rcp45', 'far')   | ('rcp85', 'near')   | ('rcp85', 'far')   |\n",
    "|:-----------|:-----------------------------|:--------------------|:-------------------|:--------------------|:-------------------|\n",
    "| pr         | -0.006(±0.008)               | 0.008(±0.008)*      | 0.007(±0.007)*     | 0.009(±0.01)*       | 0.008(±0.011)      |\n",
    "| tas        | 0.017(±0.005)***             | 0.03(±0.005)***     | 0.005(±0.003)***   | 0.042(±0.004)***    | 0.056(±0.004)***   |\n",
    "| tasmax     | 0.016(±0.005)***             | 0.029(±0.006)***    | 0.002(±0.004)      | 0.039(±0.005)***    | 0.054(±0.005)***   |\n",
    "| tasmin     | 0.019(±0.005)***             | 0.031(±0.004)***    | 0.007(±0.003)***   | 0.046(±0.004)***    | 0.059(±0.004)***   |"
   ]
  },
  {
   "cell_type": "code",
   "execution_count": 28,
   "metadata": {
    "ExecuteTime": {
     "end_time": "2020-08-30T14:07:02.406889Z",
     "start_time": "2020-08-30T14:07:02.393855Z"
    }
   },
   "outputs": [
    {
     "name": "stdout",
     "output_type": "stream",
     "text": [
      "| variable   | ('historical', 'baseline')   | ('rcp45', 'near')   | ('rcp45', 'far')   | ('rcp85', 'near')   | ('rcp85', 'far')   |\n",
      "|:-----------|:-----------------------------|:--------------------|:-------------------|:--------------------|:-------------------|\n",
      "| pr         | -0.006(±0.008)               | 0.008(±0.008)*      | 0.007(±0.007)*     | 0.009(±0.01)*       | 0.008(±0.011)      |\n",
      "| tas        | 0.017(±0.005)***             | 0.03(±0.005)***     | 0.005(±0.003)***   | 0.042(±0.004)***    | 0.056(±0.004)***   |\n",
      "| tasmax     | 0.016(±0.005)***             | 0.029(±0.006)***    | 0.002(±0.004)      | 0.039(±0.005)***    | 0.054(±0.005)***   |\n",
      "| tasmin     | 0.019(±0.005)***             | 0.031(±0.004)***    | 0.007(±0.003)***   | 0.046(±0.004)***    | 0.059(±0.004)***   |\n"
     ]
    }
   ],
   "source": [
    "print(df_pivot.loc[:, 'Annual'].to_markdown())"
   ]
  },
  {
   "cell_type": "code",
   "execution_count": 52,
   "metadata": {},
   "outputs": [],
   "source": [
    "ofile = '/home/abhi/Documents/mygit/NEX-Analysis/pickles/Amravati/anomaly_trend/EnsMean_ALL21_anomaly_trend_pivot.csv'"
   ]
  },
  {
   "cell_type": "code",
   "execution_count": 22,
   "metadata": {
    "ExecuteTime": {
     "end_time": "2020-08-30T14:02:35.975920Z",
     "start_time": "2020-08-30T14:02:35.957530Z"
    }
   },
   "outputs": [
    {
     "ename": "NameError",
     "evalue": "name 'ofile' is not defined",
     "output_type": "error",
     "traceback": [
      "\u001b[0;31m---------------------------------------------------------------------------\u001b[0m",
      "\u001b[0;31mNameError\u001b[0m                                 Traceback (most recent call last)",
      "\u001b[0;32m<ipython-input-22-36daaab30da9>\u001b[0m in \u001b[0;36m<module>\u001b[0;34m\u001b[0m\n\u001b[0;32m----> 1\u001b[0;31m \u001b[0mdf_pivot\u001b[0m\u001b[0;34m.\u001b[0m\u001b[0mto_csv\u001b[0m\u001b[0;34m(\u001b[0m\u001b[0mofile\u001b[0m\u001b[0;34m)\u001b[0m\u001b[0;34m\u001b[0m\u001b[0;34m\u001b[0m\u001b[0m\n\u001b[0m",
      "\u001b[0;31mNameError\u001b[0m: name 'ofile' is not defined"
     ]
    }
   ],
   "source": [
    "df_pivot.to_csv(ofile)"
   ]
  }
 ],
 "metadata": {
  "kernelspec": {
   "display_name": "Python 3",
   "language": "python",
   "name": "python3"
  },
  "language_info": {
   "codemirror_mode": {
    "name": "ipython",
    "version": 3
   },
   "file_extension": ".py",
   "mimetype": "text/x-python",
   "name": "python",
   "nbconvert_exporter": "python",
   "pygments_lexer": "ipython3",
   "version": "3.7.6"
  },
  "toc": {
   "base_numbering": 1,
   "nav_menu": {},
   "number_sections": true,
   "sideBar": true,
   "skip_h1_title": false,
   "title_cell": "Table of Contents",
   "title_sidebar": "Contents",
   "toc_cell": false,
   "toc_position": {},
   "toc_section_display": true,
   "toc_window_display": false
  },
  "varInspector": {
   "cols": {
    "lenName": 16,
    "lenType": 16,
    "lenVar": 40
   },
   "kernels_config": {
    "python": {
     "delete_cmd_postfix": "",
     "delete_cmd_prefix": "del ",
     "library": "var_list.py",
     "varRefreshCmd": "print(var_dic_list())"
    },
    "r": {
     "delete_cmd_postfix": ") ",
     "delete_cmd_prefix": "rm(",
     "library": "var_list.r",
     "varRefreshCmd": "cat(var_dic_list()) "
    }
   },
   "types_to_exclude": [
    "module",
    "function",
    "builtin_function_or_method",
    "instance",
    "_Feature"
   ],
   "window_display": false
  }
 },
 "nbformat": 4,
 "nbformat_minor": 2
}
